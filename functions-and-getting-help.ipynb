{
 "cells": [
  {
   "cell_type": "markdown",
   "id": "bb5251cd",
   "metadata": {
    "papermill": {
     "duration": 0.02079,
     "end_time": "2022-02-22T01:49:02.018976",
     "exception": false,
     "start_time": "2022-02-22T01:49:01.998186",
     "status": "completed"
    },
    "tags": []
   },
   "source": [
    "**This notebook is an exercise in the [Python](https://www.kaggle.com/learn/python) course.  You can reference the tutorial at [this link](https://www.kaggle.com/colinmorris/functions-and-getting-help).**\n",
    "\n",
    "---\n"
   ]
  },
  {
   "cell_type": "markdown",
   "id": "565927d9",
   "metadata": {
    "papermill": {
     "duration": 0.019012,
     "end_time": "2022-02-22T01:49:02.057911",
     "exception": false,
     "start_time": "2022-02-22T01:49:02.038899",
     "status": "completed"
    },
    "tags": []
   },
   "source": [
    "Functions are powerful. Try writing some yourself.\n",
    "\n",
    "As before, don't forget to run the setup code below before jumping into question 1."
   ]
  },
  {
   "cell_type": "code",
   "execution_count": 1,
   "id": "156c5711",
   "metadata": {
    "_kg_hide-input": true,
    "_kg_hide-output": true,
    "execution": {
     "iopub.execute_input": "2022-02-22T01:49:02.103291Z",
     "iopub.status.busy": "2022-02-22T01:49:02.101380Z",
     "iopub.status.idle": "2022-02-22T01:49:02.160236Z",
     "shell.execute_reply": "2022-02-22T01:49:02.159598Z",
     "shell.execute_reply.started": "2022-01-28T04:29:34.827376Z"
    },
    "papermill": {
     "duration": 0.083222,
     "end_time": "2022-02-22T01:49:02.160405",
     "exception": false,
     "start_time": "2022-02-22T01:49:02.077183",
     "status": "completed"
    },
    "tags": []
   },
   "outputs": [
    {
     "name": "stdout",
     "output_type": "stream",
     "text": [
      "Setup complete.\n"
     ]
    }
   ],
   "source": [
    "# SETUP. You don't need to worry for now about what this code does or how it works.\n",
    "from learntools.core import binder; binder.bind(globals())\n",
    "from learntools.python.ex2 import *\n",
    "print('Setup complete.')"
   ]
  },
  {
   "cell_type": "markdown",
   "id": "d61bd80a",
   "metadata": {
    "papermill": {
     "duration": 0.019578,
     "end_time": "2022-02-22T01:49:02.200085",
     "exception": false,
     "start_time": "2022-02-22T01:49:02.180507",
     "status": "completed"
    },
    "tags": []
   },
   "source": [
    "# 1.\n",
    "\n",
    "Complete the body of the following function according to its docstring.\n",
    "\n",
    "HINT: Python has a built-in function `round`."
   ]
  },
  {
   "cell_type": "code",
   "execution_count": 2,
   "id": "1e436c3f",
   "metadata": {
    "execution": {
     "iopub.execute_input": "2022-02-22T01:49:02.243714Z",
     "iopub.status.busy": "2022-02-22T01:49:02.243063Z",
     "iopub.status.idle": "2022-02-22T01:49:02.252125Z",
     "shell.execute_reply": "2022-02-22T01:49:02.252720Z",
     "shell.execute_reply.started": "2022-01-28T04:30:40.690427Z"
    },
    "papermill": {
     "duration": 0.033101,
     "end_time": "2022-02-22T01:49:02.252909",
     "exception": false,
     "start_time": "2022-02-22T01:49:02.219808",
     "status": "completed"
    },
    "tags": []
   },
   "outputs": [
    {
     "data": {
      "application/javascript": [
       "parent.postMessage({\"jupyterEvent\": \"custom.exercise_interaction\", \"data\": {\"outcomeType\": 1, \"valueTowardsCompletion\": 0.16666666666666666, \"interactionType\": 1, \"questionType\": 2, \"questionId\": \"1_RoundFunctionProblem\", \"learnToolsVersion\": \"0.3.4\", \"failureMessage\": \"\", \"exceptionClass\": \"\", \"trace\": \"\"}}, \"*\")"
      ],
      "text/plain": [
       "<IPython.core.display.Javascript object>"
      ]
     },
     "metadata": {},
     "output_type": "display_data"
    },
    {
     "data": {
      "text/markdown": [
       "<span style=\"color:#33cc33\">Correct</span>"
      ],
      "text/plain": [
       "Correct"
      ]
     },
     "metadata": {},
     "output_type": "display_data"
    }
   ],
   "source": [
    "def round_to_two_places(num):\n",
    "    \"\"\"Return the given number rounded to two decimal places. \n",
    "    \n",
    "    >>> round_to_two_places(3.14159)\n",
    "    3.14\n",
    "    \"\"\"\n",
    "    return round(num,2)\n",
    "# Check your answer\n",
    "q1.check()"
   ]
  },
  {
   "cell_type": "code",
   "execution_count": 3,
   "id": "90b87497",
   "metadata": {
    "execution": {
     "iopub.execute_input": "2022-02-22T01:49:02.298650Z",
     "iopub.status.busy": "2022-02-22T01:49:02.297959Z",
     "iopub.status.idle": "2022-02-22T01:49:02.300915Z",
     "shell.execute_reply": "2022-02-22T01:49:02.301496Z"
    },
    "papermill": {
     "duration": 0.027577,
     "end_time": "2022-02-22T01:49:02.301674",
     "exception": false,
     "start_time": "2022-02-22T01:49:02.274097",
     "status": "completed"
    },
    "tags": []
   },
   "outputs": [],
   "source": [
    "# Uncomment the following for a hint\n",
    "#q1.hint()\n",
    "# Or uncomment the following to peek at the solution\n",
    "#q1.solution()"
   ]
  },
  {
   "cell_type": "markdown",
   "id": "931704f0",
   "metadata": {
    "papermill": {
     "duration": 0.020997,
     "end_time": "2022-02-22T01:49:02.344088",
     "exception": false,
     "start_time": "2022-02-22T01:49:02.323091",
     "status": "completed"
    },
    "tags": []
   },
   "source": [
    "# 2.\n",
    "The help for `round` says that `ndigits` (the second argument) may be negative.\n",
    "What do you think will happen when it is? Try some examples in the following cell."
   ]
  },
  {
   "cell_type": "code",
   "execution_count": 4,
   "id": "3cac3608",
   "metadata": {
    "execution": {
     "iopub.execute_input": "2022-02-22T01:49:02.390197Z",
     "iopub.status.busy": "2022-02-22T01:49:02.389448Z",
     "iopub.status.idle": "2022-02-22T01:49:02.394830Z",
     "shell.execute_reply": "2022-02-22T01:49:02.395375Z",
     "shell.execute_reply.started": "2022-01-28T04:33:33.686409Z"
    },
    "papermill": {
     "duration": 0.030061,
     "end_time": "2022-02-22T01:49:02.395540",
     "exception": false,
     "start_time": "2022-02-22T01:49:02.365479",
     "status": "completed"
    },
    "tags": []
   },
   "outputs": [
    {
     "data": {
      "text/plain": [
       "330.0"
      ]
     },
     "execution_count": 4,
     "metadata": {},
     "output_type": "execute_result"
    }
   ],
   "source": [
    "round(333.142345, -1)"
   ]
  },
  {
   "cell_type": "code",
   "execution_count": 5,
   "id": "7880024c",
   "metadata": {
    "execution": {
     "iopub.execute_input": "2022-02-22T01:49:02.443707Z",
     "iopub.status.busy": "2022-02-22T01:49:02.442978Z",
     "iopub.status.idle": "2022-02-22T01:49:02.445985Z",
     "shell.execute_reply": "2022-02-22T01:49:02.446461Z",
     "shell.execute_reply.started": "2022-01-28T04:33:44.253567Z"
    },
    "papermill": {
     "duration": 0.029515,
     "end_time": "2022-02-22T01:49:02.446636",
     "exception": false,
     "start_time": "2022-02-22T01:49:02.417121",
     "status": "completed"
    },
    "tags": []
   },
   "outputs": [
    {
     "data": {
      "text/plain": [
       "300.0"
      ]
     },
     "execution_count": 5,
     "metadata": {},
     "output_type": "execute_result"
    }
   ],
   "source": [
    "round(333.142345, -2)"
   ]
  },
  {
   "cell_type": "code",
   "execution_count": 6,
   "id": "71c8a37c",
   "metadata": {
    "execution": {
     "iopub.execute_input": "2022-02-22T01:49:02.495655Z",
     "iopub.status.busy": "2022-02-22T01:49:02.493382Z",
     "iopub.status.idle": "2022-02-22T01:49:02.498373Z",
     "shell.execute_reply": "2022-02-22T01:49:02.498867Z",
     "shell.execute_reply.started": "2022-01-28T04:33:56.534619Z"
    },
    "papermill": {
     "duration": 0.030648,
     "end_time": "2022-02-22T01:49:02.499051",
     "exception": false,
     "start_time": "2022-02-22T01:49:02.468403",
     "status": "completed"
    },
    "tags": []
   },
   "outputs": [
    {
     "data": {
      "text/plain": [
       "0.0"
      ]
     },
     "execution_count": 6,
     "metadata": {},
     "output_type": "execute_result"
    }
   ],
   "source": [
    "round(333.142345, -3)"
   ]
  },
  {
   "cell_type": "markdown",
   "id": "c728f3a9",
   "metadata": {
    "papermill": {
     "duration": 0.023348,
     "end_time": "2022-02-22T01:49:02.545038",
     "exception": false,
     "start_time": "2022-02-22T01:49:02.521690",
     "status": "completed"
    },
    "tags": []
   },
   "source": [
    "Can you think of a case where this would be useful?  Once you're ready, run the code cell below to see the answer and to receive credit for completing the problem."
   ]
  },
  {
   "cell_type": "code",
   "execution_count": 7,
   "id": "67301f82",
   "metadata": {
    "execution": {
     "iopub.execute_input": "2022-02-22T01:49:02.594304Z",
     "iopub.status.busy": "2022-02-22T01:49:02.593316Z",
     "iopub.status.idle": "2022-02-22T01:49:02.601399Z",
     "shell.execute_reply": "2022-02-22T01:49:02.600830Z",
     "shell.execute_reply.started": "2022-01-28T04:32:20.208054Z"
    },
    "papermill": {
     "duration": 0.034413,
     "end_time": "2022-02-22T01:49:02.601547",
     "exception": false,
     "start_time": "2022-02-22T01:49:02.567134",
     "status": "completed"
    },
    "tags": []
   },
   "outputs": [
    {
     "data": {
      "application/javascript": [
       "parent.postMessage({\"jupyterEvent\": \"custom.exercise_interaction\", \"data\": {\"interactionType\": 3, \"questionType\": 4, \"questionId\": \"2_RoundNdigitsProblem\", \"learnToolsVersion\": \"0.3.4\", \"valueTowardsCompletion\": 0.0, \"failureMessage\": \"\", \"exceptionClass\": \"\", \"trace\": \"\", \"outcomeType\": 4}}, \"*\")"
      ],
      "text/plain": [
       "<IPython.core.display.Javascript object>"
      ]
     },
     "metadata": {},
     "output_type": "display_data"
    },
    {
     "data": {
      "text/markdown": [
       "<span style=\"color:#33cc99\">Solution:</span> As you've seen, `ndigits=-1` rounds to the nearest 10, `ndigits=-2` rounds to the nearest 100 and so on. Where might this be useful? Suppose we're dealing with large numbers:\n",
       "\n",
       "> The area of Finland is 338,424 km²  \n",
       "> The area of Greenland is 2,166,086 km²\n",
       "\n",
       "We probably don't care whether it's really 338,424, or 338,425, or 338,177. All those digits of accuracy are just distracting. We can chop them off by calling `round()` with `ndigits=-3`:\n",
       "\n",
       "> The area of Finland is 338,000 km²  \n",
       "> The area of Greenland is 2,166,000 km²\n",
       "\n",
       "(We'll talk about how we would get the commas later when we talk about string formatting :))\n"
      ],
      "text/plain": [
       "Solution: As you've seen, `ndigits=-1` rounds to the nearest 10, `ndigits=-2` rounds to the nearest 100 and so on. Where might this be useful? Suppose we're dealing with large numbers:\n",
       "\n",
       "> The area of Finland is 338,424 km²  \n",
       "> The area of Greenland is 2,166,086 km²\n",
       "\n",
       "We probably don't care whether it's really 338,424, or 338,425, or 338,177. All those digits of accuracy are just distracting. We can chop them off by calling `round()` with `ndigits=-3`:\n",
       "\n",
       "> The area of Finland is 338,000 km²  \n",
       "> The area of Greenland is 2,166,000 km²\n",
       "\n",
       "(We'll talk about how we would get the commas later when we talk about string formatting :))"
      ]
     },
     "metadata": {},
     "output_type": "display_data"
    }
   ],
   "source": [
    "# Check your answer (Run this code cell to receive credit!)\n",
    "q2.solution()"
   ]
  },
  {
   "cell_type": "markdown",
   "id": "9e8ba8d5",
   "metadata": {
    "papermill": {
     "duration": 0.023342,
     "end_time": "2022-02-22T01:49:02.648791",
     "exception": false,
     "start_time": "2022-02-22T01:49:02.625449",
     "status": "completed"
    },
    "tags": []
   },
   "source": [
    "# 3.\n",
    "\n",
    "In the previous exercise, the candy-sharing friends Alice, Bob and Carol tried to split candies evenly. For the sake of their friendship, any candies left over would be smashed. For example, if they collectively bring home 91 candies, they'll take 30 each and smash 1.\n",
    "\n",
    "Below is a simple function that will calculate the number of candies to smash for *any* number of total candies.\n",
    "\n",
    "Modify it so that it optionally takes a second argument representing the number of friends the candies are being split between. If no second argument is provided, it should assume 3 friends, as before.\n",
    "\n",
    "Update the docstring to reflect this new behaviour."
   ]
  },
  {
   "cell_type": "code",
   "execution_count": 8,
   "id": "b3a75733",
   "metadata": {
    "execution": {
     "iopub.execute_input": "2022-02-22T01:49:02.702582Z",
     "iopub.status.busy": "2022-02-22T01:49:02.701841Z",
     "iopub.status.idle": "2022-02-22T01:49:02.705870Z",
     "shell.execute_reply": "2022-02-22T01:49:02.706410Z",
     "shell.execute_reply.started": "2022-01-28T04:38:55.08382Z"
    },
    "papermill": {
     "duration": 0.034234,
     "end_time": "2022-02-22T01:49:02.706587",
     "exception": false,
     "start_time": "2022-02-22T01:49:02.672353",
     "status": "completed"
    },
    "tags": []
   },
   "outputs": [
    {
     "data": {
      "application/javascript": [
       "parent.postMessage({\"jupyterEvent\": \"custom.exercise_interaction\", \"data\": {\"outcomeType\": 1, \"valueTowardsCompletion\": 0.16666666666666666, \"interactionType\": 1, \"questionType\": 2, \"questionId\": \"3_CandySmashingFunctionProblem\", \"learnToolsVersion\": \"0.3.4\", \"failureMessage\": \"\", \"exceptionClass\": \"\", \"trace\": \"\"}}, \"*\")"
      ],
      "text/plain": [
       "<IPython.core.display.Javascript object>"
      ]
     },
     "metadata": {},
     "output_type": "display_data"
    },
    {
     "data": {
      "text/markdown": [
       "<span style=\"color:#33cc33\">Correct</span>"
      ],
      "text/plain": [
       "Correct"
      ]
     },
     "metadata": {},
     "output_type": "display_data"
    }
   ],
   "source": [
    "def to_smash(total_candies, friends=3):\n",
    "    \"\"\"Return the number of leftover candies that must be smashed after distributing\n",
    "    the given number of candies evenly between 3 friends.\n",
    "    \n",
    "    >>> to_smash(91)\n",
    "    1\n",
    "    \"\"\"\n",
    "    return total_candies % friends\n",
    "to_smash(91)\n",
    "\n",
    "# Check your answer\n",
    "q3.check()"
   ]
  },
  {
   "cell_type": "code",
   "execution_count": 9,
   "id": "f901c43e",
   "metadata": {
    "execution": {
     "iopub.execute_input": "2022-02-22T01:49:02.763028Z",
     "iopub.status.busy": "2022-02-22T01:49:02.762263Z",
     "iopub.status.idle": "2022-02-22T01:49:02.767062Z",
     "shell.execute_reply": "2022-02-22T01:49:02.767550Z",
     "shell.execute_reply.started": "2022-01-28T04:37:45.752001Z"
    },
    "papermill": {
     "duration": 0.035368,
     "end_time": "2022-02-22T01:49:02.767723",
     "exception": false,
     "start_time": "2022-02-22T01:49:02.732355",
     "status": "completed"
    },
    "tags": []
   },
   "outputs": [
    {
     "data": {
      "application/javascript": [
       "parent.postMessage({\"jupyterEvent\": \"custom.exercise_interaction\", \"data\": {\"interactionType\": 2, \"questionType\": 2, \"questionId\": \"3_CandySmashingFunctionProblem\", \"learnToolsVersion\": \"0.3.4\", \"valueTowardsCompletion\": 0.0, \"failureMessage\": \"\", \"exceptionClass\": \"\", \"trace\": \"\", \"outcomeType\": 4}}, \"*\")"
      ],
      "text/plain": [
       "<IPython.core.display.Javascript object>"
      ]
     },
     "metadata": {},
     "output_type": "display_data"
    },
    {
     "data": {
      "text/markdown": [
       "<span style=\"color:#3366cc\">Hint:</span> Refer to the section of the last tutorial notebook where we talked about default arguments"
      ],
      "text/plain": [
       "Hint: Refer to the section of the last tutorial notebook where we talked about default arguments"
      ]
     },
     "metadata": {},
     "output_type": "display_data"
    }
   ],
   "source": [
    "q3.hint()"
   ]
  },
  {
   "cell_type": "code",
   "execution_count": 10,
   "id": "401e3077",
   "metadata": {
    "execution": {
     "iopub.execute_input": "2022-02-22T01:49:02.827361Z",
     "iopub.status.busy": "2022-02-22T01:49:02.826635Z",
     "iopub.status.idle": "2022-02-22T01:49:02.830545Z",
     "shell.execute_reply": "2022-02-22T01:49:02.831050Z",
     "shell.execute_reply.started": "2022-01-28T04:37:52.882794Z"
    },
    "papermill": {
     "duration": 0.037397,
     "end_time": "2022-02-22T01:49:02.831225",
     "exception": false,
     "start_time": "2022-02-22T01:49:02.793828",
     "status": "completed"
    },
    "tags": []
   },
   "outputs": [
    {
     "data": {
      "application/javascript": [
       "parent.postMessage({\"jupyterEvent\": \"custom.exercise_interaction\", \"data\": {\"interactionType\": 3, \"questionType\": 2, \"questionId\": \"3_CandySmashingFunctionProblem\", \"learnToolsVersion\": \"0.3.4\", \"valueTowardsCompletion\": 0.0, \"failureMessage\": \"\", \"exceptionClass\": \"\", \"trace\": \"\", \"outcomeType\": 4}}, \"*\")"
      ],
      "text/plain": [
       "<IPython.core.display.Javascript object>"
      ]
     },
     "metadata": {},
     "output_type": "display_data"
    },
    {
     "data": {
      "text/markdown": [
       "<span style=\"color:#33cc99\">Solution:</span> \n",
       "```python\n",
       "def to_smash(total_candies, n_friends=3):\n",
       "    return total_candies % n_friends\n",
       "```"
      ],
      "text/plain": [
       "Solution: \n",
       "```python\n",
       "def to_smash(total_candies, n_friends=3):\n",
       "    return total_candies % n_friends\n",
       "```"
      ]
     },
     "metadata": {},
     "output_type": "display_data"
    }
   ],
   "source": [
    "q3.solution()"
   ]
  },
  {
   "cell_type": "markdown",
   "id": "e1c39974",
   "metadata": {
    "papermill": {
     "duration": 0.026508,
     "end_time": "2022-02-22T01:49:02.885718",
     "exception": false,
     "start_time": "2022-02-22T01:49:02.859210",
     "status": "completed"
    },
    "tags": []
   },
   "source": [
    "# 4. (Optional)\n",
    "\n",
    "It may not be fun, but reading and understanding error messages will be an important part of your Python career.\n",
    "\n",
    "Each code cell below contains some commented buggy code. For each cell...\n",
    "\n",
    "1. Read the code and predict what you think will happen when it's run.\n",
    "2. Then uncomment the code and run it to see what happens. (**Tip**: In the kernel editor, you can highlight several lines and press `ctrl`+`/` to toggle commenting.)\n",
    "3. Fix the code (so that it accomplishes its intended purpose without throwing an exception)\n",
    "\n",
    "<!-- TODO: should this be autochecked? Delta is probably pretty small. -->"
   ]
  },
  {
   "cell_type": "code",
   "execution_count": 11,
   "id": "a5ae754e",
   "metadata": {
    "execution": {
     "iopub.execute_input": "2022-02-22T01:49:02.945467Z",
     "iopub.status.busy": "2022-02-22T01:49:02.942939Z",
     "iopub.status.idle": "2022-02-22T01:49:02.948413Z",
     "shell.execute_reply": "2022-02-22T01:49:02.949007Z",
     "shell.execute_reply.started": "2022-01-28T04:39:58.574879Z"
    },
    "papermill": {
     "duration": 0.036555,
     "end_time": "2022-02-22T01:49:02.949180",
     "exception": false,
     "start_time": "2022-02-22T01:49:02.912625",
     "status": "completed"
    },
    "tags": []
   },
   "outputs": [
    {
     "data": {
      "text/plain": [
       "10.0"
      ]
     },
     "execution_count": 11,
     "metadata": {},
     "output_type": "execute_result"
    }
   ],
   "source": [
    "round(9.9999,2)"
   ]
  },
  {
   "cell_type": "code",
   "execution_count": 12,
   "id": "777c8fd4",
   "metadata": {
    "execution": {
     "iopub.execute_input": "2022-02-22T01:49:03.008185Z",
     "iopub.status.busy": "2022-02-22T01:49:03.007459Z",
     "iopub.status.idle": "2022-02-22T01:49:03.013346Z",
     "shell.execute_reply": "2022-02-22T01:49:03.012785Z",
     "shell.execute_reply.started": "2022-01-28T04:55:37.111649Z"
    },
    "papermill": {
     "duration": 0.036803,
     "end_time": "2022-02-22T01:49:03.013487",
     "exception": false,
     "start_time": "2022-02-22T01:49:02.976684",
     "status": "completed"
    },
    "tags": []
   },
   "outputs": [
    {
     "name": "stdout",
     "output_type": "stream",
     "text": [
      "5\n"
     ]
    }
   ],
   "source": [
    "x = -10\n",
    "y = 5\n",
    "# # Which of the two variables above has the smallest absolute value?\n",
    "\n",
    "smallest_abs = min(abs(x),abs(y))\n",
    "print(smallest_abs)"
   ]
  },
  {
   "cell_type": "code",
   "execution_count": 13,
   "id": "99015bb4",
   "metadata": {
    "execution": {
     "iopub.execute_input": "2022-02-22T01:49:03.075803Z",
     "iopub.status.busy": "2022-02-22T01:49:03.074701Z",
     "iopub.status.idle": "2022-02-22T01:49:03.079276Z",
     "shell.execute_reply": "2022-02-22T01:49:03.079928Z",
     "shell.execute_reply.started": "2022-01-28T04:56:18.449099Z"
    },
    "papermill": {
     "duration": 0.038426,
     "end_time": "2022-02-22T01:49:03.080206",
     "exception": false,
     "start_time": "2022-02-22T01:49:03.041780",
     "status": "completed"
    },
    "tags": []
   },
   "outputs": [
    {
     "name": "stdout",
     "output_type": "stream",
     "text": [
      "5\n"
     ]
    }
   ],
   "source": [
    "def f(x):\n",
    "    y = abs(x)\n",
    "    return y\n",
    "\n",
    "print(f(5))"
   ]
  },
  {
   "cell_type": "markdown",
   "id": "2efe3993",
   "metadata": {
    "papermill": {
     "duration": 0.028876,
     "end_time": "2022-02-22T01:49:03.138338",
     "exception": false,
     "start_time": "2022-02-22T01:49:03.109462",
     "status": "completed"
    },
    "tags": []
   },
   "source": [
    "# Keep Going\n",
    "\n",
    "Nice job with the code. Next up, you'll learn about *conditionals*, which you'll need to **[write interesting programs](https://www.kaggle.com/colinmorris/booleans-and-conditionals)**. "
   ]
  },
  {
   "cell_type": "markdown",
   "id": "164b1908",
   "metadata": {
    "papermill": {
     "duration": 0.02811,
     "end_time": "2022-02-22T01:49:03.195439",
     "exception": false,
     "start_time": "2022-02-22T01:49:03.167329",
     "status": "completed"
    },
    "tags": []
   },
   "source": [
    "---\n",
    "\n",
    "\n",
    "\n",
    "\n",
    "*Have questions or comments? Visit the [course discussion forum](https://www.kaggle.com/learn/python/discussion) to chat with other learners.*"
   ]
  }
 ],
 "metadata": {
  "kernelspec": {
   "display_name": "Python 3",
   "language": "python",
   "name": "python3"
  },
  "language_info": {
   "codemirror_mode": {
    "name": "ipython",
    "version": 3
   },
   "file_extension": ".py",
   "mimetype": "text/x-python",
   "name": "python",
   "nbconvert_exporter": "python",
   "pygments_lexer": "ipython3",
   "version": "3.7.12"
  },
  "papermill": {
   "default_parameters": {},
   "duration": 14.775128,
   "end_time": "2022-02-22T01:49:05.941844",
   "environment_variables": {},
   "exception": null,
   "input_path": "__notebook__.ipynb",
   "output_path": "__notebook__.ipynb",
   "parameters": {},
   "start_time": "2022-02-22T01:48:51.166716",
   "version": "2.3.3"
  }
 },
 "nbformat": 4,
 "nbformat_minor": 5
}
