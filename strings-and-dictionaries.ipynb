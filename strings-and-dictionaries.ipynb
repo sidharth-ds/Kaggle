{
 "cells": [
  {
   "cell_type": "markdown",
   "id": "b9b4f920",
   "metadata": {
    "papermill": {
     "duration": 0.02254,
     "end_time": "2022-02-22T01:57:09.979804",
     "exception": false,
     "start_time": "2022-02-22T01:57:09.957264",
     "status": "completed"
    },
    "tags": []
   },
   "source": [
    "**This notebook is an exercise in the [Python](https://www.kaggle.com/learn/python) course.  You can reference the tutorial at [this link](https://www.kaggle.com/colinmorris/strings-and-dictionaries).**\n",
    "\n",
    "---\n"
   ]
  },
  {
   "cell_type": "markdown",
   "id": "73982c57",
   "metadata": {
    "papermill": {
     "duration": 0.022835,
     "end_time": "2022-02-22T01:57:10.024513",
     "exception": false,
     "start_time": "2022-02-22T01:57:10.001678",
     "status": "completed"
    },
    "tags": []
   },
   "source": [
    "You are almost done with the course. Nice job!\n",
    "\n",
    "We have a couple more interesting problems for you before you go. \n",
    "\n",
    "As always, run the setup code below before working on the questions."
   ]
  },
  {
   "cell_type": "code",
   "execution_count": 1,
   "id": "87ab4cb6",
   "metadata": {
    "execution": {
     "iopub.execute_input": "2022-02-22T01:57:10.072597Z",
     "iopub.status.busy": "2022-02-22T01:57:10.071257Z",
     "iopub.status.idle": "2022-02-22T01:57:10.129079Z",
     "shell.execute_reply": "2022-02-22T01:57:10.129624Z",
     "shell.execute_reply.started": "2022-01-29T08:43:26.584154Z"
    },
    "papermill": {
     "duration": 0.083492,
     "end_time": "2022-02-22T01:57:10.130018",
     "exception": false,
     "start_time": "2022-02-22T01:57:10.046526",
     "status": "completed"
    },
    "tags": []
   },
   "outputs": [
    {
     "name": "stdout",
     "output_type": "stream",
     "text": [
      "Setup complete.\n"
     ]
    }
   ],
   "source": [
    "from learntools.core import binder; binder.bind(globals())\n",
    "from learntools.python.ex6 import *\n",
    "print('Setup complete.')"
   ]
  },
  {
   "cell_type": "markdown",
   "id": "2b21d336",
   "metadata": {
    "papermill": {
     "duration": 0.02049,
     "end_time": "2022-02-22T01:57:10.172108",
     "exception": false,
     "start_time": "2022-02-22T01:57:10.151618",
     "status": "completed"
    },
    "tags": []
   },
   "source": [
    "Let's start with a string lightning round to warm up. What are the lengths of the strings below?\n",
    "\n",
    "For each of the five strings below, predict what `len()` would return when passed that string. Use the variable `length` to record your answer, then run the cell to check whether you were right.  \n",
    "\n",
    "# 0a."
   ]
  },
  {
   "cell_type": "code",
   "execution_count": 2,
   "id": "0e314292",
   "metadata": {
    "execution": {
     "iopub.execute_input": "2022-02-22T01:57:10.221223Z",
     "iopub.status.busy": "2022-02-22T01:57:10.220330Z",
     "iopub.status.idle": "2022-02-22T01:57:10.230581Z",
     "shell.execute_reply": "2022-02-22T01:57:10.231234Z",
     "shell.execute_reply.started": "2022-01-29T08:44:11.336479Z"
    },
    "papermill": {
     "duration": 0.036583,
     "end_time": "2022-02-22T01:57:10.231463",
     "exception": false,
     "start_time": "2022-02-22T01:57:10.194880",
     "status": "completed"
    },
    "tags": []
   },
   "outputs": [
    {
     "data": {
      "application/javascript": [
       "parent.postMessage({\"jupyterEvent\": \"custom.exercise_interaction\", \"data\": {\"outcomeType\": 1, \"valueTowardsCompletion\": 0.3333333333333333, \"interactionType\": 1, \"questionType\": 1, \"questionId\": \"0.1_ZA\", \"learnToolsVersion\": \"0.3.4\", \"failureMessage\": \"\", \"exceptionClass\": \"\", \"trace\": \"\"}}, \"*\")"
      ],
      "text/plain": [
       "<IPython.core.display.Javascript object>"
      ]
     },
     "metadata": {},
     "output_type": "display_data"
    },
    {
     "data": {
      "text/markdown": [
       "<span style=\"color:#33cc33\">Correct:</span> \n",
       "\n",
       "The empty string has length zero. Note that the empty string is also the only string that Python considers as False when converting to boolean."
      ],
      "text/plain": [
       "Correct: \n",
       "\n",
       "The empty string has length zero. Note that the empty string is also the only string that Python considers as False when converting to boolean."
      ]
     },
     "metadata": {},
     "output_type": "display_data"
    }
   ],
   "source": [
    "a = \"\"\n",
    "length = 0\n",
    "\n",
    "q0.a.check()"
   ]
  },
  {
   "cell_type": "markdown",
   "id": "c2e1d2c6",
   "metadata": {
    "papermill": {
     "duration": 0.024371,
     "end_time": "2022-02-22T01:57:10.278637",
     "exception": false,
     "start_time": "2022-02-22T01:57:10.254266",
     "status": "completed"
    },
    "tags": []
   },
   "source": [
    "# 0b."
   ]
  },
  {
   "cell_type": "code",
   "execution_count": 3,
   "id": "dc5fd787",
   "metadata": {
    "execution": {
     "iopub.execute_input": "2022-02-22T01:57:10.332990Z",
     "iopub.status.busy": "2022-02-22T01:57:10.332138Z",
     "iopub.status.idle": "2022-02-22T01:57:10.338537Z",
     "shell.execute_reply": "2022-02-22T01:57:10.337960Z",
     "shell.execute_reply.started": "2022-01-29T08:45:07.453508Z"
    },
    "papermill": {
     "duration": 0.037623,
     "end_time": "2022-02-22T01:57:10.338694",
     "exception": false,
     "start_time": "2022-02-22T01:57:10.301071",
     "status": "completed"
    },
    "tags": []
   },
   "outputs": [
    {
     "data": {
      "application/javascript": [
       "parent.postMessage({\"jupyterEvent\": \"custom.exercise_interaction\", \"data\": {\"outcomeType\": 1, \"valueTowardsCompletion\": 0.3333333333333333, \"interactionType\": 1, \"questionType\": 1, \"questionId\": \"0.2_ZB\", \"learnToolsVersion\": \"0.3.4\", \"failureMessage\": \"\", \"exceptionClass\": \"\", \"trace\": \"\"}}, \"*\")"
      ],
      "text/plain": [
       "<IPython.core.display.Javascript object>"
      ]
     },
     "metadata": {},
     "output_type": "display_data"
    },
    {
     "data": {
      "text/markdown": [
       "<span style=\"color:#33cc33\">Correct:</span> \n",
       "\n",
       "Keep in mind Python includes spaces (and punctuation) when counting string length."
      ],
      "text/plain": [
       "Correct: \n",
       "\n",
       "Keep in mind Python includes spaces (and punctuation) when counting string length."
      ]
     },
     "metadata": {},
     "output_type": "display_data"
    }
   ],
   "source": [
    "b = \"it's ok\"\n",
    "length = 7\n",
    "q0.b.check()"
   ]
  },
  {
   "cell_type": "markdown",
   "id": "77c37053",
   "metadata": {
    "papermill": {
     "duration": 0.0244,
     "end_time": "2022-02-22T01:57:10.386941",
     "exception": false,
     "start_time": "2022-02-22T01:57:10.362541",
     "status": "completed"
    },
    "tags": []
   },
   "source": [
    "# 0c."
   ]
  },
  {
   "cell_type": "code",
   "execution_count": 4,
   "id": "c5354bbb",
   "metadata": {
    "execution": {
     "iopub.execute_input": "2022-02-22T01:57:10.440212Z",
     "iopub.status.busy": "2022-02-22T01:57:10.439328Z",
     "iopub.status.idle": "2022-02-22T01:57:10.446036Z",
     "shell.execute_reply": "2022-02-22T01:57:10.446581Z",
     "shell.execute_reply.started": "2022-01-29T08:45:16.092442Z"
    },
    "papermill": {
     "duration": 0.036196,
     "end_time": "2022-02-22T01:57:10.446806",
     "exception": false,
     "start_time": "2022-02-22T01:57:10.410610",
     "status": "completed"
    },
    "tags": []
   },
   "outputs": [
    {
     "data": {
      "application/javascript": [
       "parent.postMessage({\"jupyterEvent\": \"custom.exercise_interaction\", \"data\": {\"outcomeType\": 1, \"valueTowardsCompletion\": 0.3333333333333333, \"interactionType\": 1, \"questionType\": 1, \"questionId\": \"0.3_ZC\", \"learnToolsVersion\": \"0.3.4\", \"failureMessage\": \"\", \"exceptionClass\": \"\", \"trace\": \"\"}}, \"*\")"
      ],
      "text/plain": [
       "<IPython.core.display.Javascript object>"
      ]
     },
     "metadata": {},
     "output_type": "display_data"
    },
    {
     "data": {
      "text/markdown": [
       "<span style=\"color:#33cc33\">Correct:</span> \n",
       "\n",
       "Even though we use different syntax to create it, the string `c` is identical to `b`. In particular, note that the backslash is not part of the string, so it doesn't contribute to its length."
      ],
      "text/plain": [
       "Correct: \n",
       "\n",
       "Even though we use different syntax to create it, the string `c` is identical to `b`. In particular, note that the backslash is not part of the string, so it doesn't contribute to its length."
      ]
     },
     "metadata": {},
     "output_type": "display_data"
    }
   ],
   "source": [
    "c = 'it\\'s ok'\n",
    "length = 7\n",
    "q0.c.check()"
   ]
  },
  {
   "cell_type": "markdown",
   "id": "dbb30d38",
   "metadata": {
    "papermill": {
     "duration": 0.026151,
     "end_time": "2022-02-22T01:57:10.498056",
     "exception": false,
     "start_time": "2022-02-22T01:57:10.471905",
     "status": "completed"
    },
    "tags": []
   },
   "source": [
    "# 0d."
   ]
  },
  {
   "cell_type": "code",
   "execution_count": 5,
   "id": "73c01c72",
   "metadata": {
    "execution": {
     "iopub.execute_input": "2022-02-22T01:57:10.554576Z",
     "iopub.status.busy": "2022-02-22T01:57:10.553851Z",
     "iopub.status.idle": "2022-02-22T01:57:10.561098Z",
     "shell.execute_reply": "2022-02-22T01:57:10.561686Z",
     "shell.execute_reply.started": "2022-01-29T08:45:41.02294Z"
    },
    "papermill": {
     "duration": 0.039093,
     "end_time": "2022-02-22T01:57:10.561913",
     "exception": false,
     "start_time": "2022-02-22T01:57:10.522820",
     "status": "completed"
    },
    "tags": []
   },
   "outputs": [
    {
     "data": {
      "application/javascript": [
       "parent.postMessage({\"jupyterEvent\": \"custom.exercise_interaction\", \"data\": {\"outcomeType\": 1, \"valueTowardsCompletion\": 0.3333333333333333, \"interactionType\": 1, \"questionType\": 1, \"questionId\": \"0.4_ZD\", \"learnToolsVersion\": \"0.3.4\", \"failureMessage\": \"\", \"exceptionClass\": \"\", \"trace\": \"\"}}, \"*\")"
      ],
      "text/plain": [
       "<IPython.core.display.Javascript object>"
      ]
     },
     "metadata": {},
     "output_type": "display_data"
    },
    {
     "data": {
      "text/markdown": [
       "<span style=\"color:#33cc33\">Correct:</span> \n",
       "\n",
       "The fact that this string was created using triple-quote syntax doesn't make any difference in terms of its content or length. This string is exactly the same as `'hey'`."
      ],
      "text/plain": [
       "Correct: \n",
       "\n",
       "The fact that this string was created using triple-quote syntax doesn't make any difference in terms of its content or length. This string is exactly the same as `'hey'`."
      ]
     },
     "metadata": {},
     "output_type": "display_data"
    }
   ],
   "source": [
    "d = \"\"\"hey\"\"\"\n",
    "length = 3\n",
    "q0.d.check()"
   ]
  },
  {
   "cell_type": "markdown",
   "id": "4aea8d50",
   "metadata": {
    "papermill": {
     "duration": 0.025734,
     "end_time": "2022-02-22T01:57:10.614410",
     "exception": false,
     "start_time": "2022-02-22T01:57:10.588676",
     "status": "completed"
    },
    "tags": []
   },
   "source": [
    "# 0e."
   ]
  },
  {
   "cell_type": "code",
   "execution_count": 6,
   "id": "f884e605",
   "metadata": {
    "execution": {
     "iopub.execute_input": "2022-02-22T01:57:10.672355Z",
     "iopub.status.busy": "2022-02-22T01:57:10.671464Z",
     "iopub.status.idle": "2022-02-22T01:57:10.678865Z",
     "shell.execute_reply": "2022-02-22T01:57:10.679431Z",
     "shell.execute_reply.started": "2022-01-29T08:46:23.470428Z"
    },
    "papermill": {
     "duration": 0.03865,
     "end_time": "2022-02-22T01:57:10.679636",
     "exception": false,
     "start_time": "2022-02-22T01:57:10.640986",
     "status": "completed"
    },
    "tags": []
   },
   "outputs": [
    {
     "data": {
      "application/javascript": [
       "parent.postMessage({\"jupyterEvent\": \"custom.exercise_interaction\", \"data\": {\"outcomeType\": 1, \"valueTowardsCompletion\": 0.3333333333333333, \"interactionType\": 1, \"questionType\": 1, \"questionId\": \"0.5_ZE\", \"learnToolsVersion\": \"0.3.4\", \"failureMessage\": \"\", \"exceptionClass\": \"\", \"trace\": \"\"}}, \"*\")"
      ],
      "text/plain": [
       "<IPython.core.display.Javascript object>"
      ]
     },
     "metadata": {},
     "output_type": "display_data"
    },
    {
     "data": {
      "text/markdown": [
       "<span style=\"color:#33cc33\">Correct:</span> \n",
       "\n",
       "The newline character is just a single character! (Even though we represent it to Python using a combination of two characters.)"
      ],
      "text/plain": [
       "Correct: \n",
       "\n",
       "The newline character is just a single character! (Even though we represent it to Python using a combination of two characters.)"
      ]
     },
     "metadata": {},
     "output_type": "display_data"
    }
   ],
   "source": [
    "e = '\\n'\n",
    "length = 1\n",
    "q0.e.check()"
   ]
  },
  {
   "cell_type": "markdown",
   "id": "cd0bba88",
   "metadata": {
    "papermill": {
     "duration": 0.026972,
     "end_time": "2022-02-22T01:57:10.734029",
     "exception": false,
     "start_time": "2022-02-22T01:57:10.707057",
     "status": "completed"
    },
    "tags": []
   },
   "source": [
    "# 1.\n",
    "\n",
    "There is a saying that \"Data scientists spend 80% of their time cleaning data, and 20% of their time complaining about cleaning data.\" Let's see if you can write a function to help clean US zip code data. Given a string, it should return whether or not that string represents a valid zip code. For our purposes, a valid zip code is any string consisting of exactly 5 digits.\n",
    "\n",
    "HINT: `str` has a method that will be useful here. Use `help(str)` to review a list of string methods."
   ]
  },
  {
   "cell_type": "code",
   "execution_count": 7,
   "id": "0cc6187b",
   "metadata": {
    "execution": {
     "iopub.execute_input": "2022-02-22T01:57:10.796099Z",
     "iopub.status.busy": "2022-02-22T01:57:10.795350Z",
     "iopub.status.idle": "2022-02-22T01:57:10.803087Z",
     "shell.execute_reply": "2022-02-22T01:57:10.803757Z",
     "shell.execute_reply.started": "2022-01-29T08:47:19.616263Z"
    },
    "papermill": {
     "duration": 0.040722,
     "end_time": "2022-02-22T01:57:10.803957",
     "exception": false,
     "start_time": "2022-02-22T01:57:10.763235",
     "status": "completed"
    },
    "tags": []
   },
   "outputs": [
    {
     "data": {
      "application/javascript": [
       "parent.postMessage({\"jupyterEvent\": \"custom.exercise_interaction\", \"data\": {\"outcomeType\": 1, \"valueTowardsCompletion\": 0.3333333333333333, \"interactionType\": 1, \"questionType\": 2, \"questionId\": \"1_ZipValidator\", \"learnToolsVersion\": \"0.3.4\", \"failureMessage\": \"\", \"exceptionClass\": \"\", \"trace\": \"\"}}, \"*\")"
      ],
      "text/plain": [
       "<IPython.core.display.Javascript object>"
      ]
     },
     "metadata": {},
     "output_type": "display_data"
    },
    {
     "data": {
      "text/markdown": [
       "<span style=\"color:#33cc33\">Correct</span>"
      ],
      "text/plain": [
       "Correct"
      ]
     },
     "metadata": {},
     "output_type": "display_data"
    }
   ],
   "source": [
    "def is_valid_zip(zip_code):\n",
    "    \"\"\"Returns whether the input string is a valid (5 digit) zip code\n",
    "    \"\"\"\n",
    "    if len(zip_code) == 5 and zip_code.isdigit():\n",
    "        return True\n",
    "    return False\n",
    "\n",
    "# Check your answer\n",
    "q1.check()"
   ]
  },
  {
   "cell_type": "code",
   "execution_count": 8,
   "id": "1dc5e612",
   "metadata": {
    "execution": {
     "iopub.execute_input": "2022-02-22T01:57:10.866962Z",
     "iopub.status.busy": "2022-02-22T01:57:10.866265Z",
     "iopub.status.idle": "2022-02-22T01:57:10.872757Z",
     "shell.execute_reply": "2022-02-22T01:57:10.873409Z",
     "shell.execute_reply.started": "2022-01-29T07:22:00.459326Z"
    },
    "papermill": {
     "duration": 0.04064,
     "end_time": "2022-02-22T01:57:10.873626",
     "exception": false,
     "start_time": "2022-02-22T01:57:10.832986",
     "status": "completed"
    },
    "tags": []
   },
   "outputs": [
    {
     "data": {
      "application/javascript": [
       "parent.postMessage({\"jupyterEvent\": \"custom.exercise_interaction\", \"data\": {\"interactionType\": 2, \"questionType\": 2, \"questionId\": \"1_ZipValidator\", \"learnToolsVersion\": \"0.3.4\", \"valueTowardsCompletion\": 0.0, \"failureMessage\": \"\", \"exceptionClass\": \"\", \"trace\": \"\", \"outcomeType\": 4}}, \"*\")"
      ],
      "text/plain": [
       "<IPython.core.display.Javascript object>"
      ]
     },
     "metadata": {},
     "output_type": "display_data"
    },
    {
     "data": {
      "text/markdown": [
       "<span style=\"color:#3366cc\">Hint:</span> Try looking up `help(str.isdigit)`"
      ],
      "text/plain": [
       "Hint: Try looking up `help(str.isdigit)`"
      ]
     },
     "metadata": {},
     "output_type": "display_data"
    }
   ],
   "source": [
    "q1.hint()\n",
    "#q1.solution()"
   ]
  },
  {
   "cell_type": "markdown",
   "id": "b61594f9",
   "metadata": {
    "papermill": {
     "duration": 0.029427,
     "end_time": "2022-02-22T01:57:10.932962",
     "exception": false,
     "start_time": "2022-02-22T01:57:10.903535",
     "status": "completed"
    },
    "tags": []
   },
   "source": [
    "# 2.\n",
    "\n",
    "A researcher has gathered thousands of news articles. But she wants to focus her attention on articles including a specific word. Complete the function below to help her filter her list of articles.\n",
    "\n",
    "Your function should meet the following criteria:\n",
    "\n",
    "- Do not include documents where the keyword string shows up only as a part of a larger word. For example, if she were looking for the keyword “closed”, you would not include the string “enclosed.” \n",
    "- She does not want you to distinguish upper case from lower case letters. So the phrase “Closed the case.” would be included when the keyword is “closed”\n",
    "- Do not let periods or commas affect what is matched. “It is closed.” would be included when the keyword is “closed”. But you can assume there are no other types of punctuation."
   ]
  },
  {
   "cell_type": "code",
   "execution_count": 9,
   "id": "18588b0e",
   "metadata": {
    "execution": {
     "iopub.execute_input": "2022-02-22T01:57:10.998271Z",
     "iopub.status.busy": "2022-02-22T01:57:10.997494Z",
     "iopub.status.idle": "2022-02-22T01:57:11.008096Z",
     "shell.execute_reply": "2022-02-22T01:57:11.008664Z",
     "shell.execute_reply.started": "2022-01-29T08:57:34.080909Z"
    },
    "papermill": {
     "duration": 0.045275,
     "end_time": "2022-02-22T01:57:11.008891",
     "exception": false,
     "start_time": "2022-02-22T01:57:10.963616",
     "status": "completed"
    },
    "tags": []
   },
   "outputs": [
    {
     "data": {
      "application/javascript": [
       "parent.postMessage({\"jupyterEvent\": \"custom.exercise_interaction\", \"data\": {\"outcomeType\": 1, \"valueTowardsCompletion\": 0.3333333333333333, \"interactionType\": 1, \"questionType\": 2, \"questionId\": \"2_WordSearch\", \"learnToolsVersion\": \"0.3.4\", \"failureMessage\": \"\", \"exceptionClass\": \"\", \"trace\": \"\"}}, \"*\")"
      ],
      "text/plain": [
       "<IPython.core.display.Javascript object>"
      ]
     },
     "metadata": {},
     "output_type": "display_data"
    },
    {
     "data": {
      "text/markdown": [
       "<span style=\"color:#33cc33\">Correct</span>"
      ],
      "text/plain": [
       "Correct"
      ]
     },
     "metadata": {},
     "output_type": "display_data"
    }
   ],
   "source": [
    "def word_search(doc_list, keyword):\n",
    "    \"\"\"\n",
    "    Takes a list of documents (each document is a string) and a keyword. \n",
    "    Returns list of the index values into the original list for all documents \n",
    "    containing the keyword.\n",
    "\n",
    "    Example:\n",
    "    doc_list = [\"The Learn Python Challenge Casino.\", \"They bought a car\", \"Casinoville\"]\n",
    "    >>> word_search(doc_list, 'casino')\n",
    "    >>> [0]\n",
    "    \"\"\"\n",
    "    index = [] \n",
    "    for i, doc in enumerate(doc_list):\n",
    "        splitting = doc.split()\n",
    "        normalized = [element.rstrip('.,').lower() for element in splitting]\n",
    "        if keyword.lower() in normalized:\n",
    "            index.append(i)\n",
    "    return index\n",
    "# Check your answer\n",
    "q2.check()"
   ]
  },
  {
   "cell_type": "code",
   "execution_count": 10,
   "id": "7b8dc406",
   "metadata": {
    "execution": {
     "iopub.execute_input": "2022-02-22T01:57:11.079713Z",
     "iopub.status.busy": "2022-02-22T01:57:11.078959Z",
     "iopub.status.idle": "2022-02-22T01:57:11.088989Z",
     "shell.execute_reply": "2022-02-22T01:57:11.089565Z",
     "shell.execute_reply.started": "2022-01-29T07:37:29.442258Z"
    },
    "papermill": {
     "duration": 0.049364,
     "end_time": "2022-02-22T01:57:11.089796",
     "exception": false,
     "start_time": "2022-02-22T01:57:11.040432",
     "status": "completed"
    },
    "tags": []
   },
   "outputs": [
    {
     "data": {
      "application/javascript": [
       "parent.postMessage({\"jupyterEvent\": \"custom.exercise_interaction\", \"data\": {\"interactionType\": 2, \"questionType\": 2, \"questionId\": \"2_WordSearch\", \"learnToolsVersion\": \"0.3.4\", \"valueTowardsCompletion\": 0.0, \"failureMessage\": \"\", \"exceptionClass\": \"\", \"trace\": \"\", \"outcomeType\": 4}}, \"*\")"
      ],
      "text/plain": [
       "<IPython.core.display.Javascript object>"
      ]
     },
     "metadata": {},
     "output_type": "display_data"
    },
    {
     "data": {
      "text/markdown": [
       "<span style=\"color:#3366cc\">Hint:</span> Some methods that may be useful here: `str.split()`, `str.strip()`, `str.lower()`."
      ],
      "text/plain": [
       "Hint: Some methods that may be useful here: `str.split()`, `str.strip()`, `str.lower()`."
      ]
     },
     "metadata": {},
     "output_type": "display_data"
    },
    {
     "data": {
      "application/javascript": [
       "parent.postMessage({\"jupyterEvent\": \"custom.exercise_interaction\", \"data\": {\"interactionType\": 3, \"questionType\": 2, \"questionId\": \"2_WordSearch\", \"learnToolsVersion\": \"0.3.4\", \"valueTowardsCompletion\": 0.0, \"failureMessage\": \"\", \"exceptionClass\": \"\", \"trace\": \"\", \"outcomeType\": 4}}, \"*\")"
      ],
      "text/plain": [
       "<IPython.core.display.Javascript object>"
      ]
     },
     "metadata": {},
     "output_type": "display_data"
    },
    {
     "data": {
      "text/markdown": [
       "<span style=\"color:#33cc99\">Solution:</span> \n",
       "```python\n",
       "def word_search(doc_list, keyword):\n",
       "    # list to hold the indices of matching documents\n",
       "    indices = [] \n",
       "    # Iterate through the indices (i) and elements (doc) of documents\n",
       "    for i, doc in enumerate(doc_list):\n",
       "        # Split the string doc into a list of words (according to whitespace)\n",
       "        tokens = doc.split()\n",
       "        # Make a transformed list where we 'normalize' each word to facilitate matching.\n",
       "        # Periods and commas are removed from the end of each word, and it's set to all lowercase.\n",
       "        normalized = [token.rstrip('.,').lower() for token in tokens]\n",
       "        # Is there a match? If so, update the list of matching indices.\n",
       "        if keyword.lower() in normalized:\n",
       "            indices.append(i)\n",
       "    return indices\n",
       "```"
      ],
      "text/plain": [
       "Solution: \n",
       "```python\n",
       "def word_search(doc_list, keyword):\n",
       "    # list to hold the indices of matching documents\n",
       "    indices = [] \n",
       "    # Iterate through the indices (i) and elements (doc) of documents\n",
       "    for i, doc in enumerate(doc_list):\n",
       "        # Split the string doc into a list of words (according to whitespace)\n",
       "        tokens = doc.split()\n",
       "        # Make a transformed list where we 'normalize' each word to facilitate matching.\n",
       "        # Periods and commas are removed from the end of each word, and it's set to all lowercase.\n",
       "        normalized = [token.rstrip('.,').lower() for token in tokens]\n",
       "        # Is there a match? If so, update the list of matching indices.\n",
       "        if keyword.lower() in normalized:\n",
       "            indices.append(i)\n",
       "    return indices\n",
       "```"
      ]
     },
     "metadata": {},
     "output_type": "display_data"
    }
   ],
   "source": [
    "q2.hint()\n",
    "q2.solution()"
   ]
  },
  {
   "cell_type": "markdown",
   "id": "48c0b9fb",
   "metadata": {
    "papermill": {
     "duration": 0.033066,
     "end_time": "2022-02-22T01:57:11.156377",
     "exception": false,
     "start_time": "2022-02-22T01:57:11.123311",
     "status": "completed"
    },
    "tags": []
   },
   "source": [
    "# 3.\n",
    "\n",
    "Now the researcher wants to supply multiple keywords to search for. Complete the function below to help her.\n",
    "\n",
    "(You're encouraged to use the `word_search` function you just wrote when implementing this function. Reusing code in this way makes your programs more robust and readable - and it saves typing!)"
   ]
  },
  {
   "cell_type": "code",
   "execution_count": 11,
   "id": "8c204c46",
   "metadata": {
    "execution": {
     "iopub.execute_input": "2022-02-22T01:57:11.228630Z",
     "iopub.status.busy": "2022-02-22T01:57:11.227823Z",
     "iopub.status.idle": "2022-02-22T01:57:11.240134Z",
     "shell.execute_reply": "2022-02-22T01:57:11.240718Z",
     "shell.execute_reply.started": "2022-01-29T09:08:13.944372Z"
    },
    "papermill": {
     "duration": 0.050992,
     "end_time": "2022-02-22T01:57:11.240935",
     "exception": false,
     "start_time": "2022-02-22T01:57:11.189943",
     "status": "completed"
    },
    "tags": []
   },
   "outputs": [
    {
     "data": {
      "application/javascript": [
       "parent.postMessage({\"jupyterEvent\": \"custom.exercise_interaction\", \"data\": {\"outcomeType\": 1, \"valueTowardsCompletion\": 0.3333333333333333, \"interactionType\": 1, \"questionType\": 2, \"questionId\": \"3_MultiWordSearch\", \"learnToolsVersion\": \"0.3.4\", \"failureMessage\": \"\", \"exceptionClass\": \"\", \"trace\": \"\"}}, \"*\")"
      ],
      "text/plain": [
       "<IPython.core.display.Javascript object>"
      ]
     },
     "metadata": {},
     "output_type": "display_data"
    },
    {
     "data": {
      "text/markdown": [
       "<span style=\"color:#33cc33\">Correct</span>"
      ],
      "text/plain": [
       "Correct"
      ]
     },
     "metadata": {},
     "output_type": "display_data"
    }
   ],
   "source": [
    "def word_search(doc_list, keyword):\n",
    "   \n",
    "    index = [] \n",
    "    for i, doc in enumerate(doc_list):\n",
    "        splitting = doc.split()\n",
    "        normalized = [element.rstrip('.,').lower() for element in splitting]\n",
    "        if keyword.lower() in normalized:\n",
    "            index.append(i)\n",
    "    return index\n",
    "\n",
    "def multi_word_search(doc_list, keywords):\n",
    "    \"\"\"\n",
    "    Takes list of documents (each document is a string) and a list of keywords.  \n",
    "    Returns a dictionary where each key is a keyword, and the value is a list of indices\n",
    "    (from doc_list) of the documents containing that keyword\n",
    "\n",
    "    >>> doc_list = [\"The Learn Python Challenge Casino.\", \"They bought a car and a casino\", \"Casinoville\"]\n",
    "    >>> keywords = ['casino', 'they']\n",
    "    >>> multi_word_search(doc_list, keywords)\n",
    "    {'casino': [0, 1], 'they': [1]}\n",
    "    \"\"\"\n",
    "    keyword_to_indices = {}\n",
    "    for keyword in keywords:\n",
    "        keyword_to_indices[keyword] = word_search(doc_list, keyword)\n",
    "    return keyword_to_indices\n",
    "\n",
    "# Check your answer\n",
    "q3.check()"
   ]
  },
  {
   "cell_type": "code",
   "execution_count": 12,
   "id": "d24458bd",
   "metadata": {
    "execution": {
     "iopub.execute_input": "2022-02-22T01:57:11.318790Z",
     "iopub.status.busy": "2022-02-22T01:57:11.317948Z",
     "iopub.status.idle": "2022-02-22T01:57:11.325338Z",
     "shell.execute_reply": "2022-02-22T01:57:11.325935Z",
     "shell.execute_reply.started": "2022-01-29T08:00:15.589667Z"
    },
    "papermill": {
     "duration": 0.047853,
     "end_time": "2022-02-22T01:57:11.326148",
     "exception": false,
     "start_time": "2022-02-22T01:57:11.278295",
     "status": "completed"
    },
    "tags": []
   },
   "outputs": [
    {
     "data": {
      "application/javascript": [
       "parent.postMessage({\"jupyterEvent\": \"custom.exercise_interaction\", \"data\": {\"interactionType\": 3, \"questionType\": 2, \"questionId\": \"3_MultiWordSearch\", \"learnToolsVersion\": \"0.3.4\", \"valueTowardsCompletion\": 0.0, \"failureMessage\": \"\", \"exceptionClass\": \"\", \"trace\": \"\", \"outcomeType\": 4}}, \"*\")"
      ],
      "text/plain": [
       "<IPython.core.display.Javascript object>"
      ]
     },
     "metadata": {},
     "output_type": "display_data"
    },
    {
     "data": {
      "text/markdown": [
       "<span style=\"color:#33cc99\">Solution:</span> \n",
       "```python\n",
       "def multi_word_search(documents, keywords):\n",
       "    keyword_to_indices = {}\n",
       "    for keyword in keywords:\n",
       "        keyword_to_indices[keyword] = word_search(documents, keyword)\n",
       "    return keyword_to_indices\n",
       "```"
      ],
      "text/plain": [
       "Solution: \n",
       "```python\n",
       "def multi_word_search(documents, keywords):\n",
       "    keyword_to_indices = {}\n",
       "    for keyword in keywords:\n",
       "        keyword_to_indices[keyword] = word_search(documents, keyword)\n",
       "    return keyword_to_indices\n",
       "```"
      ]
     },
     "metadata": {},
     "output_type": "display_data"
    }
   ],
   "source": [
    "q3.solution()"
   ]
  },
  {
   "cell_type": "markdown",
   "id": "4ff9c6e4",
   "metadata": {
    "papermill": {
     "duration": 0.03536,
     "end_time": "2022-02-22T01:57:11.397672",
     "exception": false,
     "start_time": "2022-02-22T01:57:11.362312",
     "status": "completed"
    },
    "tags": []
   },
   "source": [
    "# Keep Going\n",
    "\n",
    "You've learned a lot. But even the best programmers rely heavily on \"libraries\" of code from other programmers. You'll learn about that in **[the last lesson](https://www.kaggle.com/colinmorris/working-with-external-libraries)**.\n"
   ]
  },
  {
   "cell_type": "markdown",
   "id": "04685a59",
   "metadata": {
    "papermill": {
     "duration": 0.035456,
     "end_time": "2022-02-22T01:57:11.469029",
     "exception": false,
     "start_time": "2022-02-22T01:57:11.433573",
     "status": "completed"
    },
    "tags": []
   },
   "source": [
    "---\n",
    "\n",
    "\n",
    "\n",
    "\n",
    "*Have questions or comments? Visit the [course discussion forum](https://www.kaggle.com/learn/python/discussion) to chat with other learners.*"
   ]
  }
 ],
 "metadata": {
  "kernelspec": {
   "display_name": "Python 3",
   "language": "python",
   "name": "python3"
  },
  "language_info": {
   "codemirror_mode": {
    "name": "ipython",
    "version": 3
   },
   "file_extension": ".py",
   "mimetype": "text/x-python",
   "name": "python",
   "nbconvert_exporter": "python",
   "pygments_lexer": "ipython3",
   "version": "3.7.12"
  },
  "papermill": {
   "default_parameters": {},
   "duration": 15.010776,
   "end_time": "2022-02-22T01:57:12.418224",
   "environment_variables": {},
   "exception": null,
   "input_path": "__notebook__.ipynb",
   "output_path": "__notebook__.ipynb",
   "parameters": {},
   "start_time": "2022-02-22T01:56:57.407448",
   "version": "2.3.3"
  }
 },
 "nbformat": 4,
 "nbformat_minor": 5
}
