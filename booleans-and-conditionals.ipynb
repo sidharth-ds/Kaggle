{
 "cells": [
  {
   "cell_type": "markdown",
   "id": "80832d04",
   "metadata": {
    "papermill": {
     "duration": 0.036513,
     "end_time": "2022-02-22T01:50:48.872295",
     "exception": false,
     "start_time": "2022-02-22T01:50:48.835782",
     "status": "completed"
    },
    "tags": []
   },
   "source": [
    "**This notebook is an exercise in the [Python](https://www.kaggle.com/learn/python) course.  You can reference the tutorial at [this link](https://www.kaggle.com/colinmorris/booleans-and-conditionals).**\n",
    "\n",
    "---\n"
   ]
  },
  {
   "cell_type": "markdown",
   "id": "b555692d",
   "metadata": {
    "papermill": {
     "duration": 0.034586,
     "end_time": "2022-02-22T01:50:48.944585",
     "exception": false,
     "start_time": "2022-02-22T01:50:48.909999",
     "status": "completed"
    },
    "tags": []
   },
   "source": [
    "In this exercise, you'll put to work what you have learned about booleans and conditionals.\n",
    "\n",
    "To get started, **run the setup code below** before writing your own code (and if you leave this notebook and come back later, don't forget to run the setup code again)."
   ]
  },
  {
   "cell_type": "code",
   "execution_count": 1,
   "id": "9ef9e3ca",
   "metadata": {
    "execution": {
     "iopub.execute_input": "2022-02-22T01:50:49.019979Z",
     "iopub.status.busy": "2022-02-22T01:50:49.018809Z",
     "iopub.status.idle": "2022-02-22T01:50:49.066013Z",
     "shell.execute_reply": "2022-02-22T01:50:49.065335Z",
     "shell.execute_reply.started": "2022-01-28T05:05:59.365397Z"
    },
    "papermill": {
     "duration": 0.086741,
     "end_time": "2022-02-22T01:50:49.066240",
     "exception": false,
     "start_time": "2022-02-22T01:50:48.979499",
     "status": "completed"
    },
    "tags": []
   },
   "outputs": [
    {
     "name": "stdout",
     "output_type": "stream",
     "text": [
      "Setup complete.\n"
     ]
    }
   ],
   "source": [
    "from learntools.core import binder; binder.bind(globals())\n",
    "from learntools.python.ex3 import *\n",
    "print('Setup complete.')"
   ]
  },
  {
   "cell_type": "markdown",
   "id": "442009e6",
   "metadata": {
    "papermill": {
     "duration": 0.036098,
     "end_time": "2022-02-22T01:50:49.139703",
     "exception": false,
     "start_time": "2022-02-22T01:50:49.103605",
     "status": "completed"
    },
    "tags": []
   },
   "source": [
    "# 1.\n",
    "\n",
    "Many programming languages have [`sign`](https://en.wikipedia.org/wiki/Sign_function) available as a built-in function. Python doesn't, but we can define our own!\n",
    "\n",
    "In the cell below, define a function called `sign` which takes a numerical argument and returns -1 if it's negative, 1 if it's positive, and 0 if it's 0."
   ]
  },
  {
   "cell_type": "code",
   "execution_count": 2,
   "id": "ca5e6397",
   "metadata": {
    "execution": {
     "iopub.execute_input": "2022-02-22T01:50:49.220154Z",
     "iopub.status.busy": "2022-02-22T01:50:49.214667Z",
     "iopub.status.idle": "2022-02-22T01:50:49.224763Z",
     "shell.execute_reply": "2022-02-22T01:50:49.225246Z",
     "shell.execute_reply.started": "2022-01-28T05:08:17.003021Z"
    },
    "papermill": {
     "duration": 0.048618,
     "end_time": "2022-02-22T01:50:49.225408",
     "exception": false,
     "start_time": "2022-02-22T01:50:49.176790",
     "status": "completed"
    },
    "tags": []
   },
   "outputs": [
    {
     "data": {
      "application/javascript": [
       "parent.postMessage({\"jupyterEvent\": \"custom.exercise_interaction\", \"data\": {\"outcomeType\": 1, \"valueTowardsCompletion\": 0.2, \"interactionType\": 1, \"questionType\": 2, \"questionId\": \"1_SignFunctionProblem\", \"learnToolsVersion\": \"0.3.4\", \"failureMessage\": \"\", \"exceptionClass\": \"\", \"trace\": \"\"}}, \"*\")"
      ],
      "text/plain": [
       "<IPython.core.display.Javascript object>"
      ]
     },
     "metadata": {},
     "output_type": "display_data"
    },
    {
     "data": {
      "text/markdown": [
       "<span style=\"color:#33cc33\">Correct</span>"
      ],
      "text/plain": [
       "Correct"
      ]
     },
     "metadata": {},
     "output_type": "display_data"
    }
   ],
   "source": [
    "# Your code goes here. Define a function called 'sign'\n",
    "def sign(num):\n",
    "    if num<0:\n",
    "        return -1\n",
    "    elif num>0:\n",
    "        return True\n",
    "    else:\n",
    "        return False\n",
    "sign(6)\n",
    "# Check your answer\n",
    "q1.check()"
   ]
  },
  {
   "cell_type": "code",
   "execution_count": 3,
   "id": "e68136de",
   "metadata": {
    "execution": {
     "iopub.execute_input": "2022-02-22T01:50:49.301687Z",
     "iopub.status.busy": "2022-02-22T01:50:49.301106Z",
     "iopub.status.idle": "2022-02-22T01:50:49.304242Z",
     "shell.execute_reply": "2022-02-22T01:50:49.304739Z",
     "shell.execute_reply.started": "2022-01-28T05:08:36.382501Z"
    },
    "papermill": {
     "duration": 0.042616,
     "end_time": "2022-02-22T01:50:49.304895",
     "exception": false,
     "start_time": "2022-02-22T01:50:49.262279",
     "status": "completed"
    },
    "tags": []
   },
   "outputs": [],
   "source": [
    "#q1.solution()"
   ]
  },
  {
   "cell_type": "markdown",
   "id": "541def20",
   "metadata": {
    "papermill": {
     "duration": 0.035977,
     "end_time": "2022-02-22T01:50:49.377374",
     "exception": false,
     "start_time": "2022-02-22T01:50:49.341397",
     "status": "completed"
    },
    "tags": []
   },
   "source": [
    "# 2.\n",
    "\n",
    "We've decided to add \"logging\" to our `to_smash` function from the previous exercise."
   ]
  },
  {
   "cell_type": "code",
   "execution_count": 4,
   "id": "ee5d0361",
   "metadata": {
    "execution": {
     "iopub.execute_input": "2022-02-22T01:50:49.453292Z",
     "iopub.status.busy": "2022-02-22T01:50:49.452435Z",
     "iopub.status.idle": "2022-02-22T01:50:49.459576Z",
     "shell.execute_reply": "2022-02-22T01:50:49.460159Z",
     "shell.execute_reply.started": "2022-01-28T05:09:59.604284Z"
    },
    "papermill": {
     "duration": 0.046567,
     "end_time": "2022-02-22T01:50:49.460322",
     "exception": false,
     "start_time": "2022-02-22T01:50:49.413755",
     "status": "completed"
    },
    "tags": []
   },
   "outputs": [
    {
     "name": "stdout",
     "output_type": "stream",
     "text": [
      "Splitting 91 candies\n"
     ]
    },
    {
     "data": {
      "text/plain": [
       "1"
      ]
     },
     "execution_count": 4,
     "metadata": {},
     "output_type": "execute_result"
    }
   ],
   "source": [
    "def to_smash(total_candies):\n",
    "    \"\"\"Return the number of leftover candies that must be smashed after distributing\n",
    "    the given number of candies evenly between 3 friends.\n",
    "    \n",
    "    >>> to_smash(91)\n",
    "    1\n",
    "    \"\"\"\n",
    "    print(\"Splitting\", total_candies, \"candies\")\n",
    "    return total_candies % 3\n",
    "\n",
    "to_smash(91)"
   ]
  },
  {
   "cell_type": "markdown",
   "id": "ed8b1fec",
   "metadata": {
    "papermill": {
     "duration": 0.036856,
     "end_time": "2022-02-22T01:50:49.534221",
     "exception": false,
     "start_time": "2022-02-22T01:50:49.497365",
     "status": "completed"
    },
    "tags": []
   },
   "source": [
    "What happens if we call it with `total_candies = 1`?"
   ]
  },
  {
   "cell_type": "code",
   "execution_count": 5,
   "id": "d1a03da1",
   "metadata": {
    "execution": {
     "iopub.execute_input": "2022-02-22T01:50:49.611671Z",
     "iopub.status.busy": "2022-02-22T01:50:49.611067Z",
     "iopub.status.idle": "2022-02-22T01:50:49.616655Z",
     "shell.execute_reply": "2022-02-22T01:50:49.617112Z",
     "shell.execute_reply.started": "2022-01-28T05:10:12.49998Z"
    },
    "papermill": {
     "duration": 0.045978,
     "end_time": "2022-02-22T01:50:49.617277",
     "exception": false,
     "start_time": "2022-02-22T01:50:49.571299",
     "status": "completed"
    },
    "tags": []
   },
   "outputs": [
    {
     "name": "stdout",
     "output_type": "stream",
     "text": [
      "Splitting 1 candies\n"
     ]
    },
    {
     "data": {
      "text/plain": [
       "1"
      ]
     },
     "execution_count": 5,
     "metadata": {},
     "output_type": "execute_result"
    }
   ],
   "source": [
    "to_smash(1)"
   ]
  },
  {
   "cell_type": "markdown",
   "id": "23aa988a",
   "metadata": {
    "papermill": {
     "duration": 0.037652,
     "end_time": "2022-02-22T01:50:49.693143",
     "exception": false,
     "start_time": "2022-02-22T01:50:49.655491",
     "status": "completed"
    },
    "tags": []
   },
   "source": [
    "That isn't great grammar!\n",
    "\n",
    "Modify the definition in the cell below to correct the grammar of our print statement. (If there's only one candy, we should use the singular \"candy\" instead of the plural \"candies\")"
   ]
  },
  {
   "cell_type": "code",
   "execution_count": 6,
   "id": "c9cc3cb1",
   "metadata": {
    "execution": {
     "iopub.execute_input": "2022-02-22T01:50:49.771928Z",
     "iopub.status.busy": "2022-02-22T01:50:49.771301Z",
     "iopub.status.idle": "2022-02-22T01:50:49.779383Z",
     "shell.execute_reply": "2022-02-22T01:50:49.779909Z",
     "shell.execute_reply.started": "2022-01-28T05:12:07.738096Z"
    },
    "papermill": {
     "duration": 0.049122,
     "end_time": "2022-02-22T01:50:49.780087",
     "exception": false,
     "start_time": "2022-02-22T01:50:49.730965",
     "status": "completed"
    },
    "tags": []
   },
   "outputs": [
    {
     "name": "stdout",
     "output_type": "stream",
     "text": [
      "Splitting 91 candies\n",
      "Splitting 1 candy\n"
     ]
    },
    {
     "data": {
      "text/plain": [
       "1"
      ]
     },
     "execution_count": 6,
     "metadata": {},
     "output_type": "execute_result"
    }
   ],
   "source": [
    "def to_smash(total_candies):\n",
    "    \"\"\"Return the number of leftover candies that must be smashed after distributing\n",
    "    the given number of candies evenly between 3 friends.\n",
    "    \n",
    "    >>> to_smash(91)\n",
    "    1\n",
    "    \"\"\"\n",
    "    if total_candies > 1:\n",
    "        print(\"Splitting\", total_candies, \"candies\")\n",
    "        return total_candies % 3\n",
    "    else:\n",
    "        print(\"Splitting\", total_candies, \"candy\")\n",
    "        return total_candies % 3\n",
    "\n",
    "to_smash(91)\n",
    "to_smash(1)"
   ]
  },
  {
   "cell_type": "markdown",
   "id": "f6b1d700",
   "metadata": {
    "papermill": {
     "duration": 0.039111,
     "end_time": "2022-02-22T01:50:49.858734",
     "exception": false,
     "start_time": "2022-02-22T01:50:49.819623",
     "status": "completed"
    },
    "tags": []
   },
   "source": [
    "To get credit for completing this problem, and to see the official answer, run the code cell below."
   ]
  },
  {
   "cell_type": "code",
   "execution_count": 7,
   "id": "b98e5455",
   "metadata": {
    "execution": {
     "iopub.execute_input": "2022-02-22T01:50:49.940302Z",
     "iopub.status.busy": "2022-02-22T01:50:49.939629Z",
     "iopub.status.idle": "2022-02-22T01:50:49.945468Z",
     "shell.execute_reply": "2022-02-22T01:50:49.945923Z",
     "shell.execute_reply.started": "2022-01-28T05:12:21.281035Z"
    },
    "papermill": {
     "duration": 0.048147,
     "end_time": "2022-02-22T01:50:49.946127",
     "exception": false,
     "start_time": "2022-02-22T01:50:49.897980",
     "status": "completed"
    },
    "tags": []
   },
   "outputs": [
    {
     "data": {
      "application/javascript": [
       "parent.postMessage({\"jupyterEvent\": \"custom.exercise_interaction\", \"data\": {\"interactionType\": 3, \"questionType\": 4, \"questionId\": \"2_PluralizationProblem\", \"learnToolsVersion\": \"0.3.4\", \"valueTowardsCompletion\": 0.0, \"failureMessage\": \"\", \"exceptionClass\": \"\", \"trace\": \"\", \"outcomeType\": 4}}, \"*\")"
      ],
      "text/plain": [
       "<IPython.core.display.Javascript object>"
      ]
     },
     "metadata": {},
     "output_type": "display_data"
    },
    {
     "data": {
      "text/markdown": [
       "<span style=\"color:#33cc99\">Solution:</span> A straightforward (and totally fine) solution is to replace the original `print` call with:\n",
       "\n",
       "```python\n",
       "if total_candies == 1:\n",
       "    print(\"Splitting 1 candy\")\n",
       "else:\n",
       "    print(\"Splitting\", total_candies, \"candies\")\n",
       "```\n",
       "\n",
       "Here's a slightly more succinct solution using a conditional expression:\n",
       "\n",
       "```python\n",
       "print(\"Splitting\", total_candies, \"candy\" if total_candies == 1 else \"candies\")\n",
       "```"
      ],
      "text/plain": [
       "Solution: A straightforward (and totally fine) solution is to replace the original `print` call with:\n",
       "\n",
       "```python\n",
       "if total_candies == 1:\n",
       "    print(\"Splitting 1 candy\")\n",
       "else:\n",
       "    print(\"Splitting\", total_candies, \"candies\")\n",
       "```\n",
       "\n",
       "Here's a slightly more succinct solution using a conditional expression:\n",
       "\n",
       "```python\n",
       "print(\"Splitting\", total_candies, \"candy\" if total_candies == 1 else \"candies\")\n",
       "```"
      ]
     },
     "metadata": {},
     "output_type": "display_data"
    }
   ],
   "source": [
    "# Check your answer (Run this code cell to receive credit!)\n",
    "q2.solution()"
   ]
  },
  {
   "cell_type": "markdown",
   "id": "67ab339c",
   "metadata": {
    "papermill": {
     "duration": 0.049376,
     "end_time": "2022-02-22T01:50:50.042346",
     "exception": false,
     "start_time": "2022-02-22T01:50:49.992970",
     "status": "completed"
    },
    "tags": []
   },
   "source": [
    "# 3. <span title=\"A bit spicy\" style=\"color: darkgreen \">🌶️</span>\n",
    "\n",
    "In the tutorial, we talked about deciding whether we're prepared for the weather. I said that I'm safe from today's weather if...\n",
    "- I have an umbrella...\n",
    "- or if the rain isn't too heavy and I have a hood...\n",
    "- otherwise, I'm still fine unless it's raining *and* it's a workday\n",
    "\n",
    "The function below uses our first attempt at turning this logic into a Python expression. I claimed that there was a bug in that code. Can you find it?\n",
    "\n",
    "To prove that `prepared_for_weather` is buggy, come up with a set of inputs where either:\n",
    "- the function returns `False` (but should have returned `True`), or\n",
    "- the function returned `True` (but should have returned `False`).\n",
    "\n",
    "To get credit for completing this question, your code should return a <font color='#33cc33'>Correct</font> result."
   ]
  },
  {
   "cell_type": "code",
   "execution_count": 8,
   "id": "2cab9964",
   "metadata": {
    "execution": {
     "iopub.execute_input": "2022-02-22T01:50:50.132907Z",
     "iopub.status.busy": "2022-02-22T01:50:50.131975Z",
     "iopub.status.idle": "2022-02-22T01:50:50.141651Z",
     "shell.execute_reply": "2022-02-22T01:50:50.142373Z",
     "shell.execute_reply.started": "2022-01-28T05:15:50.226945Z"
    },
    "papermill": {
     "duration": 0.059829,
     "end_time": "2022-02-22T01:50:50.142594",
     "exception": false,
     "start_time": "2022-02-22T01:50:50.082765",
     "status": "completed"
    },
    "tags": []
   },
   "outputs": [
    {
     "name": "stdout",
     "output_type": "stream",
     "text": [
      "False\n"
     ]
    },
    {
     "data": {
      "application/javascript": [
       "parent.postMessage({\"jupyterEvent\": \"custom.exercise_interaction\", \"data\": {\"outcomeType\": 1, \"valueTowardsCompletion\": 0.2, \"interactionType\": 1, \"questionType\": 1, \"questionId\": \"3_WeatherDebug\", \"learnToolsVersion\": \"0.3.4\", \"failureMessage\": \"\", \"exceptionClass\": \"\", \"trace\": \"\"}}, \"*\")"
      ],
      "text/plain": [
       "<IPython.core.display.Javascript object>"
      ]
     },
     "metadata": {},
     "output_type": "display_data"
    },
    {
     "data": {
      "text/markdown": [
       "<span style=\"color:#33cc33\">Correct:</span> \n",
       "\n",
       "One example of a failing test case is:\n",
       "\n",
       "```python\n",
       "have_umbrella = False\n",
       "rain_level = 0.0\n",
       "have_hood = False\n",
       "is_workday = False\n",
       "```\n",
       "\n",
       "Clearly we're prepared for the weather in this case. It's not raining. Not only that, it's not a workday, so we don't even need to leave the house! But our function will return False on these inputs.\n",
       "\n",
       "The key problem is that Python implictly parenthesizes the last part as:\n",
       "\n",
       "```python\n",
       "(not (rain_level > 0)) and is_workday\n",
       "```\n",
       "\n",
       "Whereas what we were trying to express would look more like:\n",
       "\n",
       "```python\n",
       "not (rain_level > 0 and is_workday)\n",
       "```\n"
      ],
      "text/plain": [
       "Correct: \n",
       "\n",
       "One example of a failing test case is:\n",
       "\n",
       "```python\n",
       "have_umbrella = False\n",
       "rain_level = 0.0\n",
       "have_hood = False\n",
       "is_workday = False\n",
       "```\n",
       "\n",
       "Clearly we're prepared for the weather in this case. It's not raining. Not only that, it's not a workday, so we don't even need to leave the house! But our function will return False on these inputs.\n",
       "\n",
       "The key problem is that Python implictly parenthesizes the last part as:\n",
       "\n",
       "```python\n",
       "(not (rain_level > 0)) and is_workday\n",
       "```\n",
       "\n",
       "Whereas what we were trying to express would look more like:\n",
       "\n",
       "```python\n",
       "not (rain_level > 0 and is_workday)\n",
       "```"
      ]
     },
     "metadata": {},
     "output_type": "display_data"
    }
   ],
   "source": [
    "def prepared_for_weather(have_umbrella, rain_level, have_hood, is_workday):\n",
    "    # Don't change this code. Our goal is just to find the bug, not fix it!\n",
    "    return have_umbrella or rain_level < 5 and have_hood or not rain_level > 0 and is_workday\n",
    "\n",
    "# Change the values of these inputs so they represent a case where prepared_for_weather\n",
    "# returns the wrong answer.\n",
    "have_umbrella = False\n",
    "rain_level = 0.0\n",
    "have_hood = False\n",
    "is_workday = False\n",
    "\n",
    "# Check what the function returns given the current values of the variables above\n",
    "actual = prepared_for_weather(have_umbrella, rain_level, have_hood, is_workday)\n",
    "print(actual)\n",
    "\n",
    "# Check your answer\n",
    "q3.check()"
   ]
  },
  {
   "cell_type": "code",
   "execution_count": 9,
   "id": "2bedf18a",
   "metadata": {
    "execution": {
     "iopub.execute_input": "2022-02-22T01:50:50.239806Z",
     "iopub.status.busy": "2022-02-22T01:50:50.238856Z",
     "iopub.status.idle": "2022-02-22T01:50:50.260274Z",
     "shell.execute_reply": "2022-02-22T01:50:50.259688Z",
     "shell.execute_reply.started": "2022-01-28T05:16:25.750307Z"
    },
    "papermill": {
     "duration": 0.067558,
     "end_time": "2022-02-22T01:50:50.260417",
     "exception": false,
     "start_time": "2022-02-22T01:50:50.192859",
     "status": "completed"
    },
    "tags": []
   },
   "outputs": [
    {
     "data": {
      "application/javascript": [
       "parent.postMessage({\"jupyterEvent\": \"custom.exercise_interaction\", \"data\": {\"interactionType\": 2, \"questionType\": 1, \"questionId\": \"3_WeatherDebug\", \"learnToolsVersion\": \"0.3.4\", \"valueTowardsCompletion\": 0.0, \"failureMessage\": \"\", \"exceptionClass\": \"\", \"trace\": \"\", \"outcomeType\": 4}}, \"*\")"
      ],
      "text/plain": [
       "<IPython.core.display.Javascript object>"
      ]
     },
     "metadata": {},
     "output_type": "display_data"
    },
    {
     "data": {
      "text/markdown": [
       "<span style=\"color:#3366cc\">Hint:</span> Take a look at how we fixed our original expression in the main lesson. We added parentheses around certain subexpressions. The bug in this code is caused by Python evaluating certain operations in the \"wrong\" order."
      ],
      "text/plain": [
       "Hint: Take a look at how we fixed our original expression in the main lesson. We added parentheses around certain subexpressions. The bug in this code is caused by Python evaluating certain operations in the \"wrong\" order."
      ]
     },
     "metadata": {},
     "output_type": "display_data"
    },
    {
     "data": {
      "application/javascript": [
       "parent.postMessage({\"jupyterEvent\": \"custom.exercise_interaction\", \"data\": {\"interactionType\": 3, \"questionType\": 1, \"questionId\": \"3_WeatherDebug\", \"learnToolsVersion\": \"0.3.4\", \"valueTowardsCompletion\": 0.0, \"failureMessage\": \"\", \"exceptionClass\": \"\", \"trace\": \"\", \"outcomeType\": 4}}, \"*\")"
      ],
      "text/plain": [
       "<IPython.core.display.Javascript object>"
      ]
     },
     "metadata": {},
     "output_type": "display_data"
    },
    {
     "data": {
      "text/markdown": [
       "<span style=\"color:#33cc99\">Solution:</span> One example of a failing test case is:\n",
       "\n",
       "```python\n",
       "have_umbrella = False\n",
       "rain_level = 0.0\n",
       "have_hood = False\n",
       "is_workday = False\n",
       "```\n",
       "\n",
       "Clearly we're prepared for the weather in this case. It's not raining. Not only that, it's not a workday, so we don't even need to leave the house! But our function will return False on these inputs.\n",
       "\n",
       "The key problem is that Python implictly parenthesizes the last part as:\n",
       "\n",
       "```python\n",
       "(not (rain_level > 0)) and is_workday\n",
       "```\n",
       "\n",
       "Whereas what we were trying to express would look more like:\n",
       "\n",
       "```python\n",
       "not (rain_level > 0 and is_workday)\n",
       "```\n"
      ],
      "text/plain": [
       "Solution: One example of a failing test case is:\n",
       "\n",
       "```python\n",
       "have_umbrella = False\n",
       "rain_level = 0.0\n",
       "have_hood = False\n",
       "is_workday = False\n",
       "```\n",
       "\n",
       "Clearly we're prepared for the weather in this case. It's not raining. Not only that, it's not a workday, so we don't even need to leave the house! But our function will return False on these inputs.\n",
       "\n",
       "The key problem is that Python implictly parenthesizes the last part as:\n",
       "\n",
       "```python\n",
       "(not (rain_level > 0)) and is_workday\n",
       "```\n",
       "\n",
       "Whereas what we were trying to express would look more like:\n",
       "\n",
       "```python\n",
       "not (rain_level > 0 and is_workday)\n",
       "```"
      ]
     },
     "metadata": {},
     "output_type": "display_data"
    }
   ],
   "source": [
    "q3.hint()\n",
    "q3.solution()"
   ]
  },
  {
   "cell_type": "markdown",
   "id": "dc74d5f5",
   "metadata": {
    "papermill": {
     "duration": 0.05891,
     "end_time": "2022-02-22T01:50:50.373192",
     "exception": false,
     "start_time": "2022-02-22T01:50:50.314282",
     "status": "completed"
    },
    "tags": []
   },
   "source": [
    "# 4.\n",
    "\n",
    "The function `is_negative` below is implemented correctly - it returns True if the given number is negative and False otherwise.\n",
    "\n",
    "However, it's more verbose than it needs to be. We can actually reduce the number of lines of code in this function by *75%* while keeping the same behaviour. \n",
    "\n",
    "See if you can come up with an equivalent body that uses just **one line** of code, and put it in the function `concise_is_negative`. (HINT: you don't even need Python's ternary syntax)"
   ]
  },
  {
   "cell_type": "code",
   "execution_count": 10,
   "id": "faca6085",
   "metadata": {
    "execution": {
     "iopub.execute_input": "2022-02-22T01:50:50.467012Z",
     "iopub.status.busy": "2022-02-22T01:50:50.466398Z",
     "iopub.status.idle": "2022-02-22T01:50:50.475286Z",
     "shell.execute_reply": "2022-02-22T01:50:50.475870Z",
     "shell.execute_reply.started": "2022-01-28T05:20:55.725161Z"
    },
    "papermill": {
     "duration": 0.058204,
     "end_time": "2022-02-22T01:50:50.476065",
     "exception": false,
     "start_time": "2022-02-22T01:50:50.417861",
     "status": "completed"
    },
    "tags": []
   },
   "outputs": [
    {
     "data": {
      "application/javascript": [
       "parent.postMessage({\"jupyterEvent\": \"custom.exercise_interaction\", \"data\": {\"outcomeType\": 1, \"valueTowardsCompletion\": 0.2, \"interactionType\": 1, \"questionType\": 2, \"questionId\": \"4_ConciseIsNegative\", \"learnToolsVersion\": \"0.3.4\", \"failureMessage\": \"\", \"exceptionClass\": \"\", \"trace\": \"\"}}, \"*\")"
      ],
      "text/plain": [
       "<IPython.core.display.Javascript object>"
      ]
     },
     "metadata": {},
     "output_type": "display_data"
    },
    {
     "data": {
      "text/markdown": [
       "<span style=\"color:#33cc33\">Correct</span>"
      ],
      "text/plain": [
       "Correct"
      ]
     },
     "metadata": {},
     "output_type": "display_data"
    }
   ],
   "source": [
    "def is_negative(number):\n",
    "    if number < 0:\n",
    "        return True\n",
    "    else:\n",
    "        return False\n",
    "\n",
    "def concise_is_negative(number):\n",
    "    return number < 0\n",
    "\n",
    "# Check your answer\n",
    "q4.check()"
   ]
  },
  {
   "cell_type": "code",
   "execution_count": 11,
   "id": "b940d38d",
   "metadata": {
    "execution": {
     "iopub.execute_input": "2022-02-22T01:50:50.571699Z",
     "iopub.status.busy": "2022-02-22T01:50:50.571073Z",
     "iopub.status.idle": "2022-02-22T01:50:50.581959Z",
     "shell.execute_reply": "2022-02-22T01:50:50.582580Z",
     "shell.execute_reply.started": "2022-01-28T05:20:34.568937Z"
    },
    "papermill": {
     "duration": 0.060941,
     "end_time": "2022-02-22T01:50:50.582751",
     "exception": false,
     "start_time": "2022-02-22T01:50:50.521810",
     "status": "completed"
    },
    "tags": []
   },
   "outputs": [
    {
     "data": {
      "application/javascript": [
       "parent.postMessage({\"jupyterEvent\": \"custom.exercise_interaction\", \"data\": {\"interactionType\": 2, \"questionType\": 2, \"questionId\": \"4_ConciseIsNegative\", \"learnToolsVersion\": \"0.3.4\", \"valueTowardsCompletion\": 0.0, \"failureMessage\": \"\", \"exceptionClass\": \"\", \"trace\": \"\", \"outcomeType\": 4}}, \"*\")"
      ],
      "text/plain": [
       "<IPython.core.display.Javascript object>"
      ]
     },
     "metadata": {},
     "output_type": "display_data"
    },
    {
     "data": {
      "text/markdown": [
       "<span style=\"color:#3366cc\">Hint:</span> If the value of the expression `number < 0` is `True`, then we return `True`. If it's `False`, then we return `False`..."
      ],
      "text/plain": [
       "Hint: If the value of the expression `number < 0` is `True`, then we return `True`. If it's `False`, then we return `False`..."
      ]
     },
     "metadata": {},
     "output_type": "display_data"
    },
    {
     "data": {
      "application/javascript": [
       "parent.postMessage({\"jupyterEvent\": \"custom.exercise_interaction\", \"data\": {\"interactionType\": 3, \"questionType\": 2, \"questionId\": \"4_ConciseIsNegative\", \"learnToolsVersion\": \"0.3.4\", \"valueTowardsCompletion\": 0.0, \"failureMessage\": \"\", \"exceptionClass\": \"\", \"trace\": \"\", \"outcomeType\": 4}}, \"*\")"
      ],
      "text/plain": [
       "<IPython.core.display.Javascript object>"
      ]
     },
     "metadata": {},
     "output_type": "display_data"
    },
    {
     "data": {
      "text/markdown": [
       "<span style=\"color:#33cc99\">Solution:</span> \n",
       "```python\n",
       "return number < 0\n",
       "```"
      ],
      "text/plain": [
       "Solution: \n",
       "```python\n",
       "return number < 0\n",
       "```"
      ]
     },
     "metadata": {},
     "output_type": "display_data"
    }
   ],
   "source": [
    "q4.hint()\n",
    "q4.solution()"
   ]
  },
  {
   "cell_type": "markdown",
   "id": "4f9cae5a",
   "metadata": {
    "papermill": {
     "duration": 0.047829,
     "end_time": "2022-02-22T01:50:50.679713",
     "exception": false,
     "start_time": "2022-02-22T01:50:50.631884",
     "status": "completed"
    },
    "tags": []
   },
   "source": [
    "# 5a.\n",
    "\n",
    "The boolean variables `ketchup`, `mustard` and `onion` represent whether a customer wants a particular topping on their hot dog. We want to implement a number of boolean functions that correspond to some yes-or-no questions about the customer's order. For example:"
   ]
  },
  {
   "cell_type": "code",
   "execution_count": 12,
   "id": "3d5c5f1b",
   "metadata": {
    "execution": {
     "iopub.execute_input": "2022-02-22T01:50:50.782572Z",
     "iopub.status.busy": "2022-02-22T01:50:50.781852Z",
     "iopub.status.idle": "2022-02-22T01:50:50.783765Z",
     "shell.execute_reply": "2022-02-22T01:50:50.784286Z",
     "shell.execute_reply.started": "2022-01-28T05:27:13.770707Z"
    },
    "papermill": {
     "duration": 0.055429,
     "end_time": "2022-02-22T01:50:50.784466",
     "exception": false,
     "start_time": "2022-02-22T01:50:50.729037",
     "status": "completed"
    },
    "tags": []
   },
   "outputs": [],
   "source": [
    "def onionless(ketchup, mustard, onion):\n",
    "    \"\"\"Return whether the customer doesn't want onions.\n",
    "    \"\"\"\n",
    "    return not onion"
   ]
  },
  {
   "cell_type": "code",
   "execution_count": 13,
   "id": "38567188",
   "metadata": {
    "execution": {
     "iopub.execute_input": "2022-02-22T01:50:50.888313Z",
     "iopub.status.busy": "2022-02-22T01:50:50.887609Z",
     "iopub.status.idle": "2022-02-22T01:50:50.891297Z",
     "shell.execute_reply": "2022-02-22T01:50:50.891850Z",
     "shell.execute_reply.started": "2022-01-28T05:28:02.80072Z"
    },
    "papermill": {
     "duration": 0.05751,
     "end_time": "2022-02-22T01:50:50.892014",
     "exception": false,
     "start_time": "2022-02-22T01:50:50.834504",
     "status": "completed"
    },
    "tags": []
   },
   "outputs": [
    {
     "data": {
      "application/javascript": [
       "parent.postMessage({\"jupyterEvent\": \"custom.exercise_interaction\", \"data\": {\"outcomeType\": 1, \"valueTowardsCompletion\": 0.2, \"interactionType\": 1, \"questionType\": 2, \"questionId\": \"5.1_AllToppings\", \"learnToolsVersion\": \"0.3.4\", \"failureMessage\": \"\", \"exceptionClass\": \"\", \"trace\": \"\"}}, \"*\")"
      ],
      "text/plain": [
       "<IPython.core.display.Javascript object>"
      ]
     },
     "metadata": {},
     "output_type": "display_data"
    },
    {
     "data": {
      "text/markdown": [
       "<span style=\"color:#33cc33\">Correct</span>"
      ],
      "text/plain": [
       "Correct"
      ]
     },
     "metadata": {},
     "output_type": "display_data"
    }
   ],
   "source": [
    "def wants_all_toppings(ketchup, mustard, onion):\n",
    "    \"\"\"Return whether the customer wants \"the works\" (all 3 toppings)\n",
    "    \"\"\"\n",
    "    return ketchup and mustard and onion\n",
    "\n",
    "# Check your answer\n",
    "q5.a.check()"
   ]
  },
  {
   "cell_type": "code",
   "execution_count": 14,
   "id": "9bf5ea02",
   "metadata": {
    "execution": {
     "iopub.execute_input": "2022-02-22T01:50:50.994995Z",
     "iopub.status.busy": "2022-02-22T01:50:50.994372Z",
     "iopub.status.idle": "2022-02-22T01:50:50.997229Z",
     "shell.execute_reply": "2022-02-22T01:50:50.996580Z"
    },
    "papermill": {
     "duration": 0.055552,
     "end_time": "2022-02-22T01:50:50.997365",
     "exception": false,
     "start_time": "2022-02-22T01:50:50.941813",
     "status": "completed"
    },
    "tags": []
   },
   "outputs": [],
   "source": [
    "#q5.a.hint()\n",
    "#q5.a.solution()"
   ]
  },
  {
   "cell_type": "markdown",
   "id": "a472b183",
   "metadata": {
    "papermill": {
     "duration": 0.04852,
     "end_time": "2022-02-22T01:50:51.094826",
     "exception": false,
     "start_time": "2022-02-22T01:50:51.046306",
     "status": "completed"
    },
    "tags": []
   },
   "source": [
    "# 5b.\n",
    "\n",
    "For the next function, fill in the body to match the English description in the docstring. "
   ]
  },
  {
   "cell_type": "code",
   "execution_count": 15,
   "id": "47f3f2cf",
   "metadata": {
    "execution": {
     "iopub.execute_input": "2022-02-22T01:50:51.199169Z",
     "iopub.status.busy": "2022-02-22T01:50:51.198427Z",
     "iopub.status.idle": "2022-02-22T01:50:51.203138Z",
     "shell.execute_reply": "2022-02-22T01:50:51.203577Z",
     "shell.execute_reply.started": "2022-01-28T05:30:40.341553Z"
    },
    "papermill": {
     "duration": 0.059625,
     "end_time": "2022-02-22T01:50:51.203746",
     "exception": false,
     "start_time": "2022-02-22T01:50:51.144121",
     "status": "completed"
    },
    "tags": []
   },
   "outputs": [
    {
     "data": {
      "application/javascript": [
       "parent.postMessage({\"jupyterEvent\": \"custom.exercise_interaction\", \"data\": {\"outcomeType\": 1, \"valueTowardsCompletion\": 0.2, \"interactionType\": 1, \"questionType\": 2, \"questionId\": \"5.2_PlainDog\", \"learnToolsVersion\": \"0.3.4\", \"failureMessage\": \"\", \"exceptionClass\": \"\", \"trace\": \"\"}}, \"*\")"
      ],
      "text/plain": [
       "<IPython.core.display.Javascript object>"
      ]
     },
     "metadata": {},
     "output_type": "display_data"
    },
    {
     "data": {
      "text/markdown": [
       "<span style=\"color:#33cc33\">Correct:</span> \n",
       "\n",
       "One solution looks like:\n",
       "```python\n",
       "return not ketchup and not mustard and not onion\n",
       "```\n",
       "\n",
       "We can also [\"factor out\" the nots](https://en.wikipedia.org/wiki/De_Morgan%27s_laws) to get:\n",
       "\n",
       "```python\n",
       "return not (ketchup or mustard or onion)\n",
       "```"
      ],
      "text/plain": [
       "Correct: \n",
       "\n",
       "One solution looks like:\n",
       "```python\n",
       "return not ketchup and not mustard and not onion\n",
       "```\n",
       "\n",
       "We can also [\"factor out\" the nots](https://en.wikipedia.org/wiki/De_Morgan%27s_laws) to get:\n",
       "\n",
       "```python\n",
       "return not (ketchup or mustard or onion)\n",
       "```"
      ]
     },
     "metadata": {},
     "output_type": "display_data"
    }
   ],
   "source": [
    "def wants_plain_hotdog(ketchup, mustard, onion):\n",
    "    \"\"\"Return whether the customer wants a plain hot dog with no toppings.\n",
    "    \"\"\"\n",
    "    return not (ketchup or mustard or onion)\n",
    "\n",
    "# Check your answer\n",
    "q5.b.check()"
   ]
  },
  {
   "cell_type": "code",
   "execution_count": 16,
   "id": "2d2b0a90",
   "metadata": {
    "execution": {
     "iopub.execute_input": "2022-02-22T01:50:51.308546Z",
     "iopub.status.busy": "2022-02-22T01:50:51.307773Z",
     "iopub.status.idle": "2022-02-22T01:50:51.310353Z",
     "shell.execute_reply": "2022-02-22T01:50:51.310819Z"
    },
    "papermill": {
     "duration": 0.056957,
     "end_time": "2022-02-22T01:50:51.310984",
     "exception": false,
     "start_time": "2022-02-22T01:50:51.254027",
     "status": "completed"
    },
    "tags": []
   },
   "outputs": [],
   "source": [
    "#q5.b.hint()\n",
    "#q5.b.solution()"
   ]
  },
  {
   "cell_type": "markdown",
   "id": "2a9a1a55",
   "metadata": {
    "papermill": {
     "duration": 0.050035,
     "end_time": "2022-02-22T01:50:51.411268",
     "exception": false,
     "start_time": "2022-02-22T01:50:51.361233",
     "status": "completed"
    },
    "tags": []
   },
   "source": [
    "# 5c.\n",
    "\n",
    "You know what to do: for the next function, fill in the body to match the English description in the docstring."
   ]
  },
  {
   "cell_type": "code",
   "execution_count": 17,
   "id": "2415296f",
   "metadata": {
    "execution": {
     "iopub.execute_input": "2022-02-22T01:50:51.515628Z",
     "iopub.status.busy": "2022-02-22T01:50:51.514615Z",
     "iopub.status.idle": "2022-02-22T01:50:51.522410Z",
     "shell.execute_reply": "2022-02-22T01:50:51.522848Z",
     "shell.execute_reply.started": "2022-01-28T05:33:53.095017Z"
    },
    "papermill": {
     "duration": 0.061502,
     "end_time": "2022-02-22T01:50:51.523026",
     "exception": false,
     "start_time": "2022-02-22T01:50:51.461524",
     "status": "completed"
    },
    "tags": []
   },
   "outputs": [
    {
     "data": {
      "application/javascript": [
       "parent.postMessage({\"jupyterEvent\": \"custom.exercise_interaction\", \"data\": {\"outcomeType\": 1, \"valueTowardsCompletion\": 0.2, \"interactionType\": 1, \"questionType\": 2, \"questionId\": \"5.3_OneSauce\", \"learnToolsVersion\": \"0.3.4\", \"failureMessage\": \"\", \"exceptionClass\": \"\", \"trace\": \"\"}}, \"*\")"
      ],
      "text/plain": [
       "<IPython.core.display.Javascript object>"
      ]
     },
     "metadata": {},
     "output_type": "display_data"
    },
    {
     "data": {
      "text/markdown": [
       "<span style=\"color:#33cc33\">Correct</span>"
      ],
      "text/plain": [
       "Correct"
      ]
     },
     "metadata": {},
     "output_type": "display_data"
    }
   ],
   "source": [
    "def exactly_one_sauce(ketchup, mustard, onion):\n",
    "    \"\"\"Return whether the customer wants either ketchup or mustard, but not both.\n",
    "    (You may be familiar with this operation under the name \"exclusive or\")\n",
    "    \"\"\"\n",
    "    return (ketchup and not mustard) or (mustard and not ketchup)\n",
    "\n",
    "# Check your answer\n",
    "q5.c.check()"
   ]
  },
  {
   "cell_type": "code",
   "execution_count": 18,
   "id": "4bf16ea9",
   "metadata": {
    "execution": {
     "iopub.execute_input": "2022-02-22T01:50:51.630356Z",
     "iopub.status.busy": "2022-02-22T01:50:51.629397Z",
     "iopub.status.idle": "2022-02-22T01:50:51.639463Z",
     "shell.execute_reply": "2022-02-22T01:50:51.639897Z",
     "shell.execute_reply.started": "2022-01-28T05:32:59.723025Z"
    },
    "papermill": {
     "duration": 0.065263,
     "end_time": "2022-02-22T01:50:51.640091",
     "exception": false,
     "start_time": "2022-02-22T01:50:51.574828",
     "status": "completed"
    },
    "tags": []
   },
   "outputs": [
    {
     "data": {
      "application/javascript": [
       "parent.postMessage({\"jupyterEvent\": \"custom.exercise_interaction\", \"data\": {\"interactionType\": 2, \"questionType\": 2, \"questionId\": \"5.3_OneSauce\", \"learnToolsVersion\": \"0.3.4\", \"valueTowardsCompletion\": 0.0, \"failureMessage\": \"\", \"exceptionClass\": \"\", \"trace\": \"\", \"outcomeType\": 4}}, \"*\")"
      ],
      "text/plain": [
       "<IPython.core.display.Javascript object>"
      ]
     },
     "metadata": {},
     "output_type": "display_data"
    },
    {
     "data": {
      "text/markdown": [
       "<span style=\"color:#3366cc\">Hint:</span> There are exactly two ways to set ketchup and mustard to make this true. What are they?"
      ],
      "text/plain": [
       "Hint: There are exactly two ways to set ketchup and mustard to make this true. What are they?"
      ]
     },
     "metadata": {},
     "output_type": "display_data"
    },
    {
     "data": {
      "application/javascript": [
       "parent.postMessage({\"jupyterEvent\": \"custom.exercise_interaction\", \"data\": {\"interactionType\": 3, \"questionType\": 2, \"questionId\": \"5.3_OneSauce\", \"learnToolsVersion\": \"0.3.4\", \"valueTowardsCompletion\": 0.0, \"failureMessage\": \"\", \"exceptionClass\": \"\", \"trace\": \"\", \"outcomeType\": 4}}, \"*\")"
      ],
      "text/plain": [
       "<IPython.core.display.Javascript object>"
      ]
     },
     "metadata": {},
     "output_type": "display_data"
    },
    {
     "data": {
      "text/markdown": [
       "<span style=\"color:#33cc99\">Solution:</span> \n",
       "```python\n",
       "return (ketchup and not mustard) or (mustard and not ketchup)\n",
       "```"
      ],
      "text/plain": [
       "Solution: \n",
       "```python\n",
       "return (ketchup and not mustard) or (mustard and not ketchup)\n",
       "```"
      ]
     },
     "metadata": {},
     "output_type": "display_data"
    }
   ],
   "source": [
    "q5.c.hint()\n",
    "q5.c.solution()"
   ]
  },
  {
   "cell_type": "markdown",
   "id": "a5f519c5",
   "metadata": {
    "papermill": {
     "duration": 0.055536,
     "end_time": "2022-02-22T01:50:51.749732",
     "exception": false,
     "start_time": "2022-02-22T01:50:51.694196",
     "status": "completed"
    },
    "tags": []
   },
   "source": [
    "# 6. <span title=\"A bit spicy\" style=\"color: darkgreen \">🌶️</span>\n",
    "\n",
    "We’ve seen that calling `bool()` on an integer returns `False` if it’s equal to 0 and `True` otherwise. What happens if we call `int()` on a bool? Try it out in the notebook cell below.\n",
    "\n",
    "Can you take advantage of this to write a succinct function that corresponds to the English sentence \"does the customer want exactly one topping?\"?"
   ]
  },
  {
   "cell_type": "code",
   "execution_count": 19,
   "id": "512b10d5",
   "metadata": {
    "execution": {
     "iopub.execute_input": "2022-02-22T01:50:51.863037Z",
     "iopub.status.busy": "2022-02-22T01:50:51.862420Z",
     "iopub.status.idle": "2022-02-22T01:50:51.869676Z",
     "shell.execute_reply": "2022-02-22T01:50:51.870263Z",
     "shell.execute_reply.started": "2022-01-28T05:36:22.813989Z"
    },
    "papermill": {
     "duration": 0.065659,
     "end_time": "2022-02-22T01:50:51.870431",
     "exception": false,
     "start_time": "2022-02-22T01:50:51.804772",
     "status": "completed"
    },
    "tags": []
   },
   "outputs": [
    {
     "data": {
      "application/javascript": [
       "parent.postMessage({\"jupyterEvent\": \"custom.exercise_interaction\", \"data\": {\"outcomeType\": 1, \"valueTowardsCompletion\": 0.2, \"interactionType\": 1, \"questionType\": 2, \"questionId\": \"6_OneTopping\", \"learnToolsVersion\": \"0.3.4\", \"failureMessage\": \"\", \"exceptionClass\": \"\", \"trace\": \"\"}}, \"*\")"
      ],
      "text/plain": [
       "<IPython.core.display.Javascript object>"
      ]
     },
     "metadata": {},
     "output_type": "display_data"
    },
    {
     "data": {
      "text/markdown": [
       "<span style=\"color:#33cc33\">Correct:</span> \n",
       "\n",
       "This condition would be pretty complicated to express using just `and`, `or` and `not`, but using boolean-to-integer conversion gives us this short solution:\n",
       "```python\n",
       "return (int(ketchup) + int(mustard) + int(onion)) == 1\n",
       "```\n",
       "\n",
       "Fun fact: we don't technically need to call `int` on the arguments. Just by doing addition with booleans, Python implicitly does the integer conversion. So we could also write...\n",
       "\n",
       "```python\n",
       "return (ketchup + mustard + onion) == 1\n",
       "```"
      ],
      "text/plain": [
       "Correct: \n",
       "\n",
       "This condition would be pretty complicated to express using just `and`, `or` and `not`, but using boolean-to-integer conversion gives us this short solution:\n",
       "```python\n",
       "return (int(ketchup) + int(mustard) + int(onion)) == 1\n",
       "```\n",
       "\n",
       "Fun fact: we don't technically need to call `int` on the arguments. Just by doing addition with booleans, Python implicitly does the integer conversion. So we could also write...\n",
       "\n",
       "```python\n",
       "return (ketchup + mustard + onion) == 1\n",
       "```"
      ]
     },
     "metadata": {},
     "output_type": "display_data"
    }
   ],
   "source": [
    "def exactly_one_topping(ketchup, mustard, onion):\n",
    "    \"\"\"Return whether the customer wants exactly one of the three available toppings\n",
    "    on their hot dog.\n",
    "    \"\"\"\n",
    "    return (ketchup and not mustard and not onion) or (mustard and not ketchup and not onion) or (onion and not ketchup and not mustard)\n",
    "\n",
    "# Check your answer\n",
    "q6.check()"
   ]
  },
  {
   "cell_type": "code",
   "execution_count": 20,
   "id": "432ed310",
   "metadata": {
    "execution": {
     "iopub.execute_input": "2022-02-22T01:50:51.987286Z",
     "iopub.status.busy": "2022-02-22T01:50:51.986604Z",
     "iopub.status.idle": "2022-02-22T01:50:51.993317Z",
     "shell.execute_reply": "2022-02-22T01:50:51.993758Z",
     "shell.execute_reply.started": "2022-01-28T05:38:04.189262Z"
    },
    "papermill": {
     "duration": 0.066083,
     "end_time": "2022-02-22T01:50:51.993922",
     "exception": false,
     "start_time": "2022-02-22T01:50:51.927839",
     "status": "completed"
    },
    "tags": []
   },
   "outputs": [
    {
     "data": {
      "application/javascript": [
       "parent.postMessage({\"jupyterEvent\": \"custom.exercise_interaction\", \"data\": {\"outcomeType\": 1, \"valueTowardsCompletion\": 0.2, \"interactionType\": 1, \"questionType\": 2, \"questionId\": \"6_OneTopping\", \"learnToolsVersion\": \"0.3.4\", \"failureMessage\": \"\", \"exceptionClass\": \"\", \"trace\": \"\"}}, \"*\")"
      ],
      "text/plain": [
       "<IPython.core.display.Javascript object>"
      ]
     },
     "metadata": {},
     "output_type": "display_data"
    },
    {
     "data": {
      "text/markdown": [
       "<span style=\"color:#33cc33\">Correct:</span> \n",
       "\n",
       "This condition would be pretty complicated to express using just `and`, `or` and `not`, but using boolean-to-integer conversion gives us this short solution:\n",
       "```python\n",
       "return (int(ketchup) + int(mustard) + int(onion)) == 1\n",
       "```\n",
       "\n",
       "Fun fact: we don't technically need to call `int` on the arguments. Just by doing addition with booleans, Python implicitly does the integer conversion. So we could also write...\n",
       "\n",
       "```python\n",
       "return (ketchup + mustard + onion) == 1\n",
       "```"
      ],
      "text/plain": [
       "Correct: \n",
       "\n",
       "This condition would be pretty complicated to express using just `and`, `or` and `not`, but using boolean-to-integer conversion gives us this short solution:\n",
       "```python\n",
       "return (int(ketchup) + int(mustard) + int(onion)) == 1\n",
       "```\n",
       "\n",
       "Fun fact: we don't technically need to call `int` on the arguments. Just by doing addition with booleans, Python implicitly does the integer conversion. So we could also write...\n",
       "\n",
       "```python\n",
       "return (ketchup + mustard + onion) == 1\n",
       "```"
      ]
     },
     "metadata": {},
     "output_type": "display_data"
    }
   ],
   "source": [
    "def exactly_one_topping(ketchup, mustard, onion):\n",
    "    return (ketchup + mustard + onion) == 1\n",
    "q6.check()"
   ]
  },
  {
   "cell_type": "code",
   "execution_count": 21,
   "id": "23a30491",
   "metadata": {
    "execution": {
     "iopub.execute_input": "2022-02-22T01:50:52.112833Z",
     "iopub.status.busy": "2022-02-22T01:50:52.112235Z",
     "iopub.status.idle": "2022-02-22T01:50:52.114420Z",
     "shell.execute_reply": "2022-02-22T01:50:52.114863Z"
    },
    "papermill": {
     "duration": 0.062757,
     "end_time": "2022-02-22T01:50:52.115069",
     "exception": false,
     "start_time": "2022-02-22T01:50:52.052312",
     "status": "completed"
    },
    "tags": []
   },
   "outputs": [],
   "source": [
    "#q6.hint()\n",
    "#q6.solution()"
   ]
  },
  {
   "cell_type": "markdown",
   "id": "54e360cd",
   "metadata": {
    "papermill": {
     "duration": 0.056806,
     "end_time": "2022-02-22T01:50:52.229128",
     "exception": false,
     "start_time": "2022-02-22T01:50:52.172322",
     "status": "completed"
    },
    "tags": []
   },
   "source": [
    "# 7. <span title=\"A bit spicy\" style=\"color: darkgreen \">🌶️</span> (Optional)\n",
    "\n",
    "In this problem we'll be working with a simplified version of [blackjack](https://en.wikipedia.org/wiki/Blackjack) (aka twenty-one). In this version there is one player (who you'll control) and a dealer. Play proceeds as follows:\n",
    "\n",
    "- The player is dealt two face-up cards. The dealer is dealt one face-up card.\n",
    "- The player may ask to be dealt another card ('hit') as many times as they wish. If the sum of their cards exceeds 21, they lose the round immediately.\n",
    "- The dealer then deals additional cards to himself until either:\n",
    "    - the sum of the dealer's cards exceeds 21, in which case the player wins the round\n",
    "    - the sum of the dealer's cards is greater than or equal to 17. If the player's total is greater than the dealer's, the player wins. Otherwise, the dealer wins (even in case of a tie).\n",
    "    \n",
    "When calculating the sum of cards, Jack, Queen, and King count for 10. Aces can count as 1 or 11 (when referring to a player's \"total\" above, we mean the largest total that can be made without exceeding 21. So e.g. A+8 = 19, A+8+8 = 17)\n",
    "\n",
    "For this problem, you'll write a function representing the player's decision-making strategy in this game. We've provided a very unintelligent implementation below:"
   ]
  },
  {
   "cell_type": "code",
   "execution_count": 22,
   "id": "834dfe53",
   "metadata": {
    "execution": {
     "iopub.execute_input": "2022-02-22T01:50:52.346191Z",
     "iopub.status.busy": "2022-02-22T01:50:52.345564Z",
     "iopub.status.idle": "2022-02-22T01:50:52.349591Z",
     "shell.execute_reply": "2022-02-22T01:50:52.350289Z"
    },
    "papermill": {
     "duration": 0.064145,
     "end_time": "2022-02-22T01:50:52.350468",
     "exception": false,
     "start_time": "2022-02-22T01:50:52.286323",
     "status": "completed"
    },
    "tags": []
   },
   "outputs": [],
   "source": [
    "def should_hit(dealer_total, player_total, player_low_aces, player_high_aces):\n",
    "    \"\"\"Return True if the player should hit (request another card) given the current game\n",
    "    state, or False if the player should stay.\n",
    "    When calculating a hand's total value, we count aces as \"high\" (with value 11) if doing so\n",
    "    doesn't bring the total above 21, otherwise we count them as low (with value 1). \n",
    "    For example, if the player's hand is {A, A, A, 7}, we will count it as 11 + 1 + 1 + 7,\n",
    "    and therefore set player_total=20, player_low_aces=2, player_high_aces=1.\n",
    "    \"\"\"\n",
    "    return False"
   ]
  },
  {
   "cell_type": "markdown",
   "id": "7b6d9161",
   "metadata": {
    "papermill": {
     "duration": 0.057161,
     "end_time": "2022-02-22T01:50:52.465382",
     "exception": false,
     "start_time": "2022-02-22T01:50:52.408221",
     "status": "completed"
    },
    "tags": []
   },
   "source": [
    "This very conservative agent *always* sticks with the hand of two cards that they're dealt.\n",
    "\n",
    "We'll be simulating games between your player agent and our own dealer agent by calling your function.\n",
    "\n",
    "Try running the function below to see an example of a simulated game:"
   ]
  },
  {
   "cell_type": "code",
   "execution_count": 23,
   "id": "7889c931",
   "metadata": {
    "execution": {
     "iopub.execute_input": "2022-02-22T01:50:52.582354Z",
     "iopub.status.busy": "2022-02-22T01:50:52.581634Z",
     "iopub.status.idle": "2022-02-22T01:50:52.587470Z",
     "shell.execute_reply": "2022-02-22T01:50:52.588226Z"
    },
    "papermill": {
     "duration": 0.066222,
     "end_time": "2022-02-22T01:50:52.588448",
     "exception": false,
     "start_time": "2022-02-22T01:50:52.522226",
     "status": "completed"
    },
    "tags": []
   },
   "outputs": [
    {
     "name": "stdout",
     "output_type": "stream",
     "text": [
      "Player starts with 8 and 9 (total = 17)\n",
      "Dealer starts with 7\n",
      "\n",
      "__Player's turn__\n",
      "Player stays\n",
      "\n",
      "__Dealer's turn__\n",
      "Dealer hits and receives K. (total = 17)\n",
      "Dealer stands.\n",
      "Dealer wins. 17 >= 17\n"
     ]
    }
   ],
   "source": [
    "q7.simulate_one_game()"
   ]
  },
  {
   "cell_type": "markdown",
   "id": "a0d4aa83",
   "metadata": {
    "papermill": {
     "duration": 0.057126,
     "end_time": "2022-02-22T01:50:52.704871",
     "exception": false,
     "start_time": "2022-02-22T01:50:52.647745",
     "status": "completed"
    },
    "tags": []
   },
   "source": [
    "The real test of your agent's mettle is their average win rate over many games. Try calling the function below to simulate 50000 games of blackjack (it may take a couple seconds):"
   ]
  },
  {
   "cell_type": "code",
   "execution_count": 24,
   "id": "382a897c",
   "metadata": {
    "execution": {
     "iopub.execute_input": "2022-02-22T01:50:52.825593Z",
     "iopub.status.busy": "2022-02-22T01:50:52.824987Z",
     "iopub.status.idle": "2022-02-22T01:50:54.758567Z",
     "shell.execute_reply": "2022-02-22T01:50:54.757862Z"
    },
    "papermill": {
     "duration": 1.994436,
     "end_time": "2022-02-22T01:50:54.758710",
     "exception": false,
     "start_time": "2022-02-22T01:50:52.764274",
     "status": "completed"
    },
    "tags": []
   },
   "outputs": [
    {
     "name": "stdout",
     "output_type": "stream",
     "text": [
      "Player won 18979 out of 50000 games (win rate = 38.0%)\n"
     ]
    }
   ],
   "source": [
    "q7.simulate(n_games=50000)"
   ]
  },
  {
   "cell_type": "markdown",
   "id": "2e6de359",
   "metadata": {
    "papermill": {
     "duration": 0.058122,
     "end_time": "2022-02-22T01:50:54.875536",
     "exception": false,
     "start_time": "2022-02-22T01:50:54.817414",
     "status": "completed"
    },
    "tags": []
   },
   "source": [
    "Our dumb agent that completely ignores the game state still manages to win shockingly often!\n",
    "\n",
    "Try adding some more smarts to the `should_hit` function and see how it affects the results."
   ]
  },
  {
   "cell_type": "code",
   "execution_count": 25,
   "id": "56a59277",
   "metadata": {
    "execution": {
     "iopub.execute_input": "2022-02-22T01:50:55.002523Z",
     "iopub.status.busy": "2022-02-22T01:50:55.001591Z",
     "iopub.status.idle": "2022-02-22T01:50:56.968254Z",
     "shell.execute_reply": "2022-02-22T01:50:56.968792Z"
    },
    "papermill": {
     "duration": 2.034932,
     "end_time": "2022-02-22T01:50:56.969024",
     "exception": false,
     "start_time": "2022-02-22T01:50:54.934092",
     "status": "completed"
    },
    "tags": []
   },
   "outputs": [
    {
     "name": "stdout",
     "output_type": "stream",
     "text": [
      "Player won 18913 out of 50000 games (win rate = 37.8%)\n"
     ]
    }
   ],
   "source": [
    "def should_hit(dealer_total, player_total, player_low_aces, player_high_aces):\n",
    "    \"\"\"Return True if the player should hit (request another card) given the current game\n",
    "    state, or False if the player should stay.\n",
    "    When calculating a hand's total value, we count aces as \"high\" (with value 11) if doing so\n",
    "    doesn't bring the total above 21, otherwise we count them as low (with value 1). \n",
    "    For example, if the player's hand is {A, A, A, 7}, we will count it as 11 + 1 + 1 + 7,\n",
    "    and therefore set player_total=20, player_low_aces=2, player_high_aces=1.\n",
    "    \"\"\"\n",
    "    return False\n",
    "\n",
    "q7.simulate(n_games=50000)"
   ]
  },
  {
   "cell_type": "markdown",
   "id": "675d8682",
   "metadata": {
    "papermill": {
     "duration": 0.059767,
     "end_time": "2022-02-22T01:50:57.089327",
     "exception": false,
     "start_time": "2022-02-22T01:50:57.029560",
     "status": "completed"
    },
    "tags": []
   },
   "source": [
    "# Keep Going\n",
    "\n",
    "Learn about **[lists and tuples](https://www.kaggle.com/colinmorris/lists)** to handle multiple items of data in a systematic way."
   ]
  },
  {
   "cell_type": "markdown",
   "id": "a8040743",
   "metadata": {
    "papermill": {
     "duration": 0.059138,
     "end_time": "2022-02-22T01:50:57.207343",
     "exception": false,
     "start_time": "2022-02-22T01:50:57.148205",
     "status": "completed"
    },
    "tags": []
   },
   "source": [
    "---\n",
    "\n",
    "\n",
    "\n",
    "\n",
    "*Have questions or comments? Visit the [course discussion forum](https://www.kaggle.com/learn/python/discussion) to chat with other learners.*"
   ]
  }
 ],
 "metadata": {
  "kernelspec": {
   "display_name": "Python 3",
   "language": "python",
   "name": "python3"
  },
  "language_info": {
   "codemirror_mode": {
    "name": "ipython",
    "version": 3
   },
   "file_extension": ".py",
   "mimetype": "text/x-python",
   "name": "python",
   "nbconvert_exporter": "python",
   "pygments_lexer": "ipython3",
   "version": "3.7.12"
  },
  "papermill": {
   "default_parameters": {},
   "duration": 18.830553,
   "end_time": "2022-02-22T01:50:57.874494",
   "environment_variables": {},
   "exception": null,
   "input_path": "__notebook__.ipynb",
   "output_path": "__notebook__.ipynb",
   "parameters": {},
   "start_time": "2022-02-22T01:50:39.043941",
   "version": "2.3.3"
  }
 },
 "nbformat": 4,
 "nbformat_minor": 5
}
