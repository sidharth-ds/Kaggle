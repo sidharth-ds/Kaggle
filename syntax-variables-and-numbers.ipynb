{
 "cells": [
  {
   "cell_type": "markdown",
   "id": "ec303331",
   "metadata": {
    "papermill": {
     "duration": 0.025218,
     "end_time": "2022-02-22T01:45:43.317177",
     "exception": false,
     "start_time": "2022-02-22T01:45:43.291959",
     "status": "completed"
    },
    "tags": []
   },
   "source": [
    "**This notebook is an exercise in the [Python](https://www.kaggle.com/learn/python) course.  You can reference the tutorial at [this link](https://www.kaggle.com/colinmorris/hello-python).**\n",
    "\n",
    "---\n"
   ]
  },
  {
   "cell_type": "markdown",
   "id": "5f0d2f8b",
   "metadata": {
    "papermill": {
     "duration": 0.023724,
     "end_time": "2022-02-22T01:45:43.365274",
     "exception": false,
     "start_time": "2022-02-22T01:45:43.341550",
     "status": "completed"
    },
    "tags": []
   },
   "source": [
    "Welcome to your first set of Python coding problems.  If this is your first time using Kaggle Notebooks, welcome! \n",
    "\n",
    "Notebooks are composed of blocks (called \"cells\") of text and code. Each of these is editable, though you'll mainly be editing the code cells to answer some questions.\n",
    "\n",
    "To get started, try running the code cell below (by pressing the ► button, or clicking on the cell and pressing ctrl+enter on your keyboard)."
   ]
  },
  {
   "cell_type": "code",
   "execution_count": 1,
   "id": "fb6ea0dd",
   "metadata": {
    "execution": {
     "iopub.execute_input": "2022-02-22T01:45:43.417420Z",
     "iopub.status.busy": "2022-02-22T01:45:43.416305Z",
     "iopub.status.idle": "2022-02-22T01:45:43.426112Z",
     "shell.execute_reply": "2022-02-22T01:45:43.426696Z",
     "shell.execute_reply.started": "2022-01-27T03:17:38.641856Z"
    },
    "papermill": {
     "duration": 0.037698,
     "end_time": "2022-02-22T01:45:43.426960",
     "exception": false,
     "start_time": "2022-02-22T01:45:43.389262",
     "status": "completed"
    },
    "tags": []
   },
   "outputs": [
    {
     "name": "stdout",
     "output_type": "stream",
     "text": [
      "You've successfully run some Python code\n",
      "Congratulations!\n",
      "hello kaggle!!\n"
     ]
    }
   ],
   "source": [
    "print(\"You've successfully run some Python code\")\n",
    "print(\"Congratulations!\")\n",
    "print(\"hello kaggle!!\")"
   ]
  },
  {
   "cell_type": "markdown",
   "id": "3afafdbc",
   "metadata": {
    "papermill": {
     "duration": 0.024181,
     "end_time": "2022-02-22T01:45:43.475834",
     "exception": false,
     "start_time": "2022-02-22T01:45:43.451653",
     "status": "completed"
    },
    "tags": []
   },
   "source": [
    "Try adding another line of code in the cell above and re-running it. \n",
    "\n",
    "Now let's get a little fancier:  Add a new code cell by clicking on an existing code cell, hitting the escape key, and then hitting the `a` or `b` key.  The `a` key will add a cell above the current cell, and `b` adds a cell below.\n",
    "\n",
    "Great! Now you know how to use Notebooks.\n",
    "\n",
    "Each hands-on exercise starts by setting up our feedback and code checking mechanism. Run the code cell below to do that. Then you'll be ready to move on to question 0."
   ]
  },
  {
   "cell_type": "code",
   "execution_count": 2,
   "id": "caae8e7c",
   "metadata": {
    "_kg_hide-input": true,
    "_kg_hide-output": true,
    "execution": {
     "iopub.execute_input": "2022-02-22T01:45:43.529764Z",
     "iopub.status.busy": "2022-02-22T01:45:43.527323Z",
     "iopub.status.idle": "2022-02-22T01:45:43.569508Z",
     "shell.execute_reply": "2022-02-22T01:45:43.570029Z",
     "shell.execute_reply.started": "2022-01-27T03:19:27.640512Z"
    },
    "papermill": {
     "duration": 0.069745,
     "end_time": "2022-02-22T01:45:43.570206",
     "exception": false,
     "start_time": "2022-02-22T01:45:43.500461",
     "status": "completed"
    },
    "tags": []
   },
   "outputs": [
    {
     "name": "stdout",
     "output_type": "stream",
     "text": [
      "Setup complete! You're ready to start question 0.\n"
     ]
    }
   ],
   "source": [
    "from learntools.core import binder; binder.bind(globals())\n",
    "from learntools.python.ex1 import *\n",
    "print(\"Setup complete! You're ready to start question 0.\")"
   ]
  },
  {
   "cell_type": "markdown",
   "id": "46e0e72c",
   "metadata": {
    "papermill": {
     "duration": 0.024642,
     "end_time": "2022-02-22T01:45:43.619778",
     "exception": false,
     "start_time": "2022-02-22T01:45:43.595136",
     "status": "completed"
    },
    "tags": []
   },
   "source": [
    "# 0.\n",
    "\n",
    "*This is a silly question intended as an introduction to the format we use for hands-on exercises throughout all Kaggle courses.*\n",
    "\n",
    "**What is your favorite color? **\n",
    "\n",
    "To complete this question, create a variable called `color` in the cell below with an appropriate value. The function call `q0.check()` (which we've already provided in the cell below) will check your answer."
   ]
  },
  {
   "cell_type": "code",
   "execution_count": 3,
   "id": "3a4250f6",
   "metadata": {
    "execution": {
     "iopub.execute_input": "2022-02-22T01:45:43.672727Z",
     "iopub.status.busy": "2022-02-22T01:45:43.672076Z",
     "iopub.status.idle": "2022-02-22T01:45:43.681372Z",
     "shell.execute_reply": "2022-02-22T01:45:43.681902Z",
     "shell.execute_reply.started": "2022-01-27T03:30:41.743461Z"
    },
    "papermill": {
     "duration": 0.03729,
     "end_time": "2022-02-22T01:45:43.682091",
     "exception": false,
     "start_time": "2022-02-22T01:45:43.644801",
     "status": "completed"
    },
    "tags": []
   },
   "outputs": [
    {
     "data": {
      "application/javascript": [
       "parent.postMessage({\"jupyterEvent\": \"custom.exercise_interaction\", \"data\": {\"outcomeType\": 1, \"valueTowardsCompletion\": 0.25, \"interactionType\": 1, \"questionType\": 2, \"questionId\": \"0_ExerciseFormatTutorial\", \"learnToolsVersion\": \"0.3.4\", \"failureMessage\": \"\", \"exceptionClass\": \"\", \"trace\": \"\"}}, \"*\")"
      ],
      "text/plain": [
       "<IPython.core.display.Javascript object>"
      ]
     },
     "metadata": {},
     "output_type": "display_data"
    },
    {
     "data": {
      "text/markdown": [
       "<span style=\"color:#33cc33\">Correct:</span> What?! You got it right without needing a hint or anything? Drats. Well hey, you should still continue to the next step to get some practice asking for a hint and checking solutions. (Even though you obviously don't need any help here.)"
      ],
      "text/plain": [
       "Correct: What?! You got it right without needing a hint or anything? Drats. Well hey, you should still continue to the next step to get some practice asking for a hint and checking solutions. (Even though you obviously don't need any help here.)"
      ]
     },
     "metadata": {},
     "output_type": "display_data"
    }
   ],
   "source": [
    "# create a variable called color with an appropriate value on the line below\n",
    "\n",
    "# (Remember, strings in Python must be enclosed in 'single' or \"double\" quotes)\n",
    "\n",
    "color = 'blue'\n",
    "\n",
    "# Check your answer\n",
    "\n",
    "q0.check()"
   ]
  },
  {
   "cell_type": "markdown",
   "id": "c5f51b36",
   "metadata": {
    "papermill": {
     "duration": 0.025724,
     "end_time": "2022-02-22T01:45:43.734983",
     "exception": false,
     "start_time": "2022-02-22T01:45:43.709259",
     "status": "completed"
    },
    "tags": []
   },
   "source": [
    "Didn't get the right answer? How do you not even know your own favorite color?!\n",
    "\n",
    "Delete the `#` in the line below to make one of the lines run. You can choose between getting a hint or the full answer by choosing which line to remove the `#` from. \n",
    "\n",
    "Removing the `#` is called uncommenting, because it changes that line from a \"comment\" which Python doesn't run to code, which Python does run."
   ]
  },
  {
   "cell_type": "code",
   "execution_count": 4,
   "id": "7bd76369",
   "metadata": {
    "execution": {
     "iopub.execute_input": "2022-02-22T01:45:43.792508Z",
     "iopub.status.busy": "2022-02-22T01:45:43.791530Z",
     "iopub.status.idle": "2022-02-22T01:45:43.802161Z",
     "shell.execute_reply": "2022-02-22T01:45:43.802598Z",
     "shell.execute_reply.started": "2022-01-27T03:23:59.968442Z"
    },
    "papermill": {
     "duration": 0.041823,
     "end_time": "2022-02-22T01:45:43.802803",
     "exception": false,
     "start_time": "2022-02-22T01:45:43.760980",
     "status": "completed"
    },
    "tags": []
   },
   "outputs": [
    {
     "data": {
      "application/javascript": [
       "parent.postMessage({\"jupyterEvent\": \"custom.exercise_interaction\", \"data\": {\"interactionType\": 2, \"questionType\": 2, \"questionId\": \"0_ExerciseFormatTutorial\", \"learnToolsVersion\": \"0.3.4\", \"valueTowardsCompletion\": 0.0, \"failureMessage\": \"\", \"exceptionClass\": \"\", \"trace\": \"\", \"outcomeType\": 4}}, \"*\")"
      ],
      "text/plain": [
       "<IPython.core.display.Javascript object>"
      ]
     },
     "metadata": {},
     "output_type": "display_data"
    },
    {
     "data": {
      "text/markdown": [
       "<span style=\"color:#3366cc\">Hint:</span> Your favorite color rhymes with *glue*."
      ],
      "text/plain": [
       "Hint: Your favorite color rhymes with *glue*."
      ]
     },
     "metadata": {},
     "output_type": "display_data"
    },
    {
     "data": {
      "application/javascript": [
       "parent.postMessage({\"jupyterEvent\": \"custom.exercise_interaction\", \"data\": {\"interactionType\": 3, \"questionType\": 2, \"questionId\": \"0_ExerciseFormatTutorial\", \"learnToolsVersion\": \"0.3.4\", \"valueTowardsCompletion\": 0.0, \"failureMessage\": \"\", \"exceptionClass\": \"\", \"trace\": \"\", \"outcomeType\": 4}}, \"*\")"
      ],
      "text/plain": [
       "<IPython.core.display.Javascript object>"
      ]
     },
     "metadata": {},
     "output_type": "display_data"
    },
    {
     "data": {
      "text/markdown": [
       "<span style=\"color:#33cc99\">Solution:</span> \n",
       "```python\n",
       "color = \"blue\"\n",
       "```"
      ],
      "text/plain": [
       "Solution: \n",
       "```python\n",
       "color = \"blue\"\n",
       "```"
      ]
     },
     "metadata": {},
     "output_type": "display_data"
    }
   ],
   "source": [
    "q0.hint()\n",
    "q0.solution()"
   ]
  },
  {
   "cell_type": "markdown",
   "id": "8b56013f",
   "metadata": {
    "papermill": {
     "duration": 0.028138,
     "end_time": "2022-02-22T01:45:43.860398",
     "exception": false,
     "start_time": "2022-02-22T01:45:43.832260",
     "status": "completed"
    },
    "tags": []
   },
   "source": [
    "The upcoming questions work the same way. The only thing that will change are the question numbers. For the next question, you'll call `q1.check()`, `q1.hint()`, `q1.solution()`, for question 2, you'll call `q2.check()`, and so on."
   ]
  },
  {
   "cell_type": "markdown",
   "id": "0f75462f",
   "metadata": {
    "papermill": {
     "duration": 0.028232,
     "end_time": "2022-02-22T01:45:43.917042",
     "exception": false,
     "start_time": "2022-02-22T01:45:43.888810",
     "status": "completed"
    },
    "tags": []
   },
   "source": [
    "<hr/>\n",
    "\n",
    "# 1.\n",
    "\n",
    "Complete the code below. In case it's helpful, here is the table of available arithmetic operations:\n",
    "\n",
    "\n",
    "\n",
    "| Operator     | Name           | Description                                            |\n",
    "|--------------|----------------|--------------------------------------------------------|\n",
    "| ``a + b``    | Addition       | Sum of ``a`` and ``b``                                 |\n",
    "| ``a - b``    | Subtraction    | Difference of ``a`` and ``b``                          |\n",
    "| ``a * b``    | Multiplication | Product of ``a`` and ``b``                             |\n",
    "| ``a / b``    | True division  | Quotient of ``a`` and ``b``                            |\n",
    "| ``a // b``   | Floor division | Quotient of ``a`` and ``b``, removing fractional parts |\n",
    "| ``a % b``    | Modulus        | Integer remainder after division of ``a`` by ``b``     |\n",
    "| ``a ** b``   | Exponentiation | ``a`` raised to the power of ``b``                     |\n",
    "| ``-a``       | Negation       | The negative of ``a``                                  |\n",
    "\n",
    "<span style=\"display:none\"></span>\n"
   ]
  },
  {
   "cell_type": "code",
   "execution_count": 5,
   "id": "b46ad079",
   "metadata": {
    "execution": {
     "iopub.execute_input": "2022-02-22T01:45:43.980534Z",
     "iopub.status.busy": "2022-02-22T01:45:43.979590Z",
     "iopub.status.idle": "2022-02-22T01:45:43.984888Z",
     "shell.execute_reply": "2022-02-22T01:45:43.985413Z",
     "shell.execute_reply.started": "2022-01-27T03:29:26.762863Z"
    },
    "papermill": {
     "duration": 0.040215,
     "end_time": "2022-02-22T01:45:43.985582",
     "exception": false,
     "start_time": "2022-02-22T01:45:43.945367",
     "status": "completed"
    },
    "tags": []
   },
   "outputs": [
    {
     "data": {
      "application/javascript": [
       "parent.postMessage({\"jupyterEvent\": \"custom.exercise_interaction\", \"data\": {\"outcomeType\": 1, \"valueTowardsCompletion\": 0.25, \"interactionType\": 1, \"questionType\": 1, \"questionId\": \"1_CircleArea\", \"learnToolsVersion\": \"0.3.4\", \"failureMessage\": \"\", \"exceptionClass\": \"\", \"trace\": \"\"}}, \"*\")"
      ],
      "text/plain": [
       "<IPython.core.display.Javascript object>"
      ]
     },
     "metadata": {},
     "output_type": "display_data"
    },
    {
     "data": {
      "text/markdown": [
       "<span style=\"color:#33cc33\">Correct</span>"
      ],
      "text/plain": [
       "Correct"
      ]
     },
     "metadata": {},
     "output_type": "display_data"
    }
   ],
   "source": [
    "pi = 3.14159 # approximate\n",
    "diameter = 3\n",
    "\n",
    "# Create a variable called 'radius' equal to half the diameter\n",
    "radius = 0.5 * diameter\n",
    "\n",
    "# Create a variable called 'area', using the formula for the area of a circle: pi times the radius squared\n",
    "area = pi * (radius**2)\n",
    "\n",
    "# Check your answer\n",
    "q1.check()"
   ]
  },
  {
   "cell_type": "code",
   "execution_count": 6,
   "id": "c0d718de",
   "metadata": {
    "execution": {
     "iopub.execute_input": "2022-02-22T01:45:44.051918Z",
     "iopub.status.busy": "2022-02-22T01:45:44.050901Z",
     "iopub.status.idle": "2022-02-22T01:45:44.055882Z",
     "shell.execute_reply": "2022-02-22T01:45:44.056381Z",
     "shell.execute_reply.started": "2022-01-27T03:30:56.837384Z"
    },
    "papermill": {
     "duration": 0.040204,
     "end_time": "2022-02-22T01:45:44.056544",
     "exception": false,
     "start_time": "2022-02-22T01:45:44.016340",
     "status": "completed"
    },
    "tags": []
   },
   "outputs": [
    {
     "data": {
      "application/javascript": [
       "parent.postMessage({\"jupyterEvent\": \"custom.exercise_interaction\", \"data\": {\"interactionType\": 2, \"questionType\": 1, \"questionId\": \"1_CircleArea\", \"learnToolsVersion\": \"0.3.4\", \"valueTowardsCompletion\": 0.0, \"failureMessage\": \"\", \"exceptionClass\": \"\", \"trace\": \"\", \"outcomeType\": 4}}, \"*\")"
      ],
      "text/plain": [
       "<IPython.core.display.Javascript object>"
      ]
     },
     "metadata": {},
     "output_type": "display_data"
    },
    {
     "data": {
      "text/markdown": [
       "<span style=\"color:#3366cc\">Hint:</span> The syntax to raise a to the b'th power is `a ** b`"
      ],
      "text/plain": [
       "Hint: The syntax to raise a to the b'th power is `a ** b`"
      ]
     },
     "metadata": {},
     "output_type": "display_data"
    }
   ],
   "source": [
    "# Uncomment and run the lines below if you need help.\n",
    "q1.hint()\n",
    "#q1.solution()"
   ]
  },
  {
   "cell_type": "markdown",
   "id": "b1d5bc05",
   "metadata": {
    "papermill": {
     "duration": 0.03092,
     "end_time": "2022-02-22T01:45:44.119015",
     "exception": false,
     "start_time": "2022-02-22T01:45:44.088095",
     "status": "completed"
    },
    "tags": []
   },
   "source": [
    "<hr/>\n",
    "\n",
    "# 2.\n",
    "\n",
    "Add code to the following cell to swap variables `a` and `b` (so that `a` refers to the object previously referred to by `b` and vice versa)."
   ]
  },
  {
   "cell_type": "code",
   "execution_count": 7,
   "id": "f306c6b7",
   "metadata": {
    "execution": {
     "iopub.execute_input": "2022-02-22T01:45:44.184320Z",
     "iopub.status.busy": "2022-02-22T01:45:44.183638Z",
     "iopub.status.idle": "2022-02-22T01:45:44.191950Z",
     "shell.execute_reply": "2022-02-22T01:45:44.191399Z",
     "shell.execute_reply.started": "2022-01-27T03:32:48.97097Z"
    },
    "papermill": {
     "duration": 0.042225,
     "end_time": "2022-02-22T01:45:44.192106",
     "exception": false,
     "start_time": "2022-02-22T01:45:44.149881",
     "status": "completed"
    },
    "tags": []
   },
   "outputs": [
    {
     "data": {
      "application/javascript": [
       "parent.postMessage({\"jupyterEvent\": \"custom.exercise_interaction\", \"data\": {\"outcomeType\": 1, \"valueTowardsCompletion\": 0.25, \"interactionType\": 1, \"questionType\": 2, \"questionId\": \"2_VariableSwap\", \"learnToolsVersion\": \"0.3.4\", \"failureMessage\": \"\", \"exceptionClass\": \"\", \"trace\": \"\"}}, \"*\")"
      ],
      "text/plain": [
       "<IPython.core.display.Javascript object>"
      ]
     },
     "metadata": {},
     "output_type": "display_data"
    },
    {
     "data": {
      "text/markdown": [
       "<span style=\"color:#33cc33\">Correct:</span> \n",
       "\n",
       "The most straightforward solution is to use a third variable to temporarily store one of the old values. e.g.:\n",
       "\n",
       "    tmp = a\n",
       "    a = b\n",
       "    b = tmp\n",
       "\n",
       "If you've read lots of Python code, you might have seen the following trick to swap two variables in one line:\n",
       "\n",
       "    a, b = b, a\n",
       "\n",
       "We'll demystify this bit of Python magic later when we talk about *tuples*."
      ],
      "text/plain": [
       "Correct: \n",
       "\n",
       "The most straightforward solution is to use a third variable to temporarily store one of the old values. e.g.:\n",
       "\n",
       "    tmp = a\n",
       "    a = b\n",
       "    b = tmp\n",
       "\n",
       "If you've read lots of Python code, you might have seen the following trick to swap two variables in one line:\n",
       "\n",
       "    a, b = b, a\n",
       "\n",
       "We'll demystify this bit of Python magic later when we talk about *tuples*."
      ]
     },
     "metadata": {},
     "output_type": "display_data"
    }
   ],
   "source": [
    "########### Setup code - don't touch this part ######################\n",
    "# If you're curious, these are examples of lists. We'll talk about \n",
    "# them in depth a few lessons from now. For now, just know that they're\n",
    "# yet another type of Python object, like int or float.\n",
    "a = [1, 2, 3]\n",
    "b = [3, 2, 1]\n",
    "q2.store_original_ids()\n",
    "######################################################################\n",
    "\n",
    "# Your code goes here. Swap the values to which a and b refer.\n",
    "# If you get stuck, you can always uncomment one or both of the lines in\n",
    "# the next cell for a hint, or to peek at the solution.\n",
    "\n",
    "######################################################################\n",
    "\n",
    "# Check your answer\n",
    "a,b = b,a\n",
    "q2.check()"
   ]
  },
  {
   "cell_type": "code",
   "execution_count": 8,
   "id": "a0f5b1bc",
   "metadata": {
    "execution": {
     "iopub.execute_input": "2022-02-22T01:45:44.260955Z",
     "iopub.status.busy": "2022-02-22T01:45:44.259977Z",
     "iopub.status.idle": "2022-02-22T01:45:44.262911Z",
     "shell.execute_reply": "2022-02-22T01:45:44.262392Z"
    },
    "papermill": {
     "duration": 0.038738,
     "end_time": "2022-02-22T01:45:44.263051",
     "exception": false,
     "start_time": "2022-02-22T01:45:44.224313",
     "status": "completed"
    },
    "tags": []
   },
   "outputs": [],
   "source": [
    "#q2.hint()"
   ]
  },
  {
   "cell_type": "code",
   "execution_count": 9,
   "id": "54342789",
   "metadata": {
    "execution": {
     "iopub.execute_input": "2022-02-22T01:45:44.333439Z",
     "iopub.status.busy": "2022-02-22T01:45:44.332799Z",
     "iopub.status.idle": "2022-02-22T01:45:44.334265Z",
     "shell.execute_reply": "2022-02-22T01:45:44.334767Z"
    },
    "papermill": {
     "duration": 0.039295,
     "end_time": "2022-02-22T01:45:44.334925",
     "exception": false,
     "start_time": "2022-02-22T01:45:44.295630",
     "status": "completed"
    },
    "tags": []
   },
   "outputs": [],
   "source": [
    "#q2.solution()"
   ]
  },
  {
   "cell_type": "markdown",
   "id": "4c0e9ebc",
   "metadata": {
    "papermill": {
     "duration": 0.03192,
     "end_time": "2022-02-22T01:45:44.399139",
     "exception": false,
     "start_time": "2022-02-22T01:45:44.367219",
     "status": "completed"
    },
    "tags": []
   },
   "source": [
    "<hr/>\n",
    "\n",
    "# 3a.\n",
    "\n",
    "Add parentheses to the following expression so that it evaluates to 1."
   ]
  },
  {
   "cell_type": "code",
   "execution_count": 10,
   "id": "3693909f",
   "metadata": {
    "execution": {
     "iopub.execute_input": "2022-02-22T01:45:44.469291Z",
     "iopub.status.busy": "2022-02-22T01:45:44.468536Z",
     "iopub.status.idle": "2022-02-22T01:45:44.472198Z",
     "shell.execute_reply": "2022-02-22T01:45:44.471630Z",
     "shell.execute_reply.started": "2022-01-27T03:33:20.060059Z"
    },
    "papermill": {
     "duration": 0.040733,
     "end_time": "2022-02-22T01:45:44.472331",
     "exception": false,
     "start_time": "2022-02-22T01:45:44.431598",
     "status": "completed"
    },
    "tags": []
   },
   "outputs": [
    {
     "data": {
      "text/plain": [
       "1"
      ]
     },
     "execution_count": 10,
     "metadata": {},
     "output_type": "execute_result"
    }
   ],
   "source": [
    "(5 - 3) // 2"
   ]
  },
  {
   "cell_type": "code",
   "execution_count": 11,
   "id": "13790652",
   "metadata": {
    "execution": {
     "iopub.execute_input": "2022-02-22T01:45:44.542556Z",
     "iopub.status.busy": "2022-02-22T01:45:44.541918Z",
     "iopub.status.idle": "2022-02-22T01:45:44.543418Z",
     "shell.execute_reply": "2022-02-22T01:45:44.543927Z"
    },
    "papermill": {
     "duration": 0.03873,
     "end_time": "2022-02-22T01:45:44.544126",
     "exception": false,
     "start_time": "2022-02-22T01:45:44.505396",
     "status": "completed"
    },
    "tags": []
   },
   "outputs": [],
   "source": [
    "#q3.a.hint()"
   ]
  },
  {
   "cell_type": "code",
   "execution_count": 12,
   "id": "d6c8f260",
   "metadata": {
    "execution": {
     "iopub.execute_input": "2022-02-22T01:45:44.614852Z",
     "iopub.status.busy": "2022-02-22T01:45:44.614087Z",
     "iopub.status.idle": "2022-02-22T01:45:44.618480Z",
     "shell.execute_reply": "2022-02-22T01:45:44.619015Z"
    },
    "papermill": {
     "duration": 0.041926,
     "end_time": "2022-02-22T01:45:44.619185",
     "exception": false,
     "start_time": "2022-02-22T01:45:44.577259",
     "status": "completed"
    },
    "tags": []
   },
   "outputs": [
    {
     "data": {
      "application/javascript": [
       "parent.postMessage({\"jupyterEvent\": \"custom.exercise_interaction\", \"data\": {\"interactionType\": 3, \"questionType\": 4, \"questionId\": \"3.1_ArithmeticParensEasy\", \"learnToolsVersion\": \"0.3.4\", \"valueTowardsCompletion\": 0.0, \"failureMessage\": \"\", \"exceptionClass\": \"\", \"trace\": \"\", \"outcomeType\": 4}}, \"*\")"
      ],
      "text/plain": [
       "<IPython.core.display.Javascript object>"
      ]
     },
     "metadata": {},
     "output_type": "display_data"
    },
    {
     "data": {
      "text/markdown": [
       "<span style=\"color:#33cc99\">Solution:</span> \n",
       "```python\n",
       "(5 - 3) // 2\n",
       "```"
      ],
      "text/plain": [
       "Solution: \n",
       "```python\n",
       "(5 - 3) // 2\n",
       "```"
      ]
     },
     "metadata": {},
     "output_type": "display_data"
    }
   ],
   "source": [
    "# Check your answer (Run this code cell to receive credit!)\n",
    "q3.a.solution()"
   ]
  },
  {
   "cell_type": "markdown",
   "id": "9e40da97",
   "metadata": {
    "papermill": {
     "duration": 0.034281,
     "end_time": "2022-02-22T01:45:44.688737",
     "exception": false,
     "start_time": "2022-02-22T01:45:44.654456",
     "status": "completed"
    },
    "tags": []
   },
   "source": [
    "# 3b.  <span title=\"A bit spicy\" style=\"color: darkgreen \">🌶️</span>\n",
    "\n",
    "<small>Questions, like this one, marked a spicy pepper are a bit harder.</small>\n",
    "\n",
    "Add parentheses to the following expression so that it evaluates to 0."
   ]
  },
  {
   "cell_type": "code",
   "execution_count": 13,
   "id": "1522f756",
   "metadata": {
    "execution": {
     "iopub.execute_input": "2022-02-22T01:45:44.761324Z",
     "iopub.status.busy": "2022-02-22T01:45:44.760641Z",
     "iopub.status.idle": "2022-02-22T01:45:44.764899Z",
     "shell.execute_reply": "2022-02-22T01:45:44.765395Z",
     "shell.execute_reply.started": "2022-01-27T03:35:10.825545Z"
    },
    "papermill": {
     "duration": 0.041917,
     "end_time": "2022-02-22T01:45:44.765562",
     "exception": false,
     "start_time": "2022-02-22T01:45:44.723645",
     "status": "completed"
    },
    "tags": []
   },
   "outputs": [
    {
     "data": {
      "text/plain": [
       "0"
      ]
     },
     "execution_count": 13,
     "metadata": {},
     "output_type": "execute_result"
    }
   ],
   "source": [
    "8 - (3 * 2) - (1 + 1)"
   ]
  },
  {
   "cell_type": "code",
   "execution_count": 14,
   "id": "91ea28a5",
   "metadata": {
    "execution": {
     "iopub.execute_input": "2022-02-22T01:45:44.838436Z",
     "iopub.status.busy": "2022-02-22T01:45:44.837729Z",
     "iopub.status.idle": "2022-02-22T01:45:44.840656Z",
     "shell.execute_reply": "2022-02-22T01:45:44.841158Z"
    },
    "papermill": {
     "duration": 0.040827,
     "end_time": "2022-02-22T01:45:44.841325",
     "exception": false,
     "start_time": "2022-02-22T01:45:44.800498",
     "status": "completed"
    },
    "tags": []
   },
   "outputs": [],
   "source": [
    "#q3.b.hint()"
   ]
  },
  {
   "cell_type": "code",
   "execution_count": 15,
   "id": "74f2fc16",
   "metadata": {
    "execution": {
     "iopub.execute_input": "2022-02-22T01:45:44.914894Z",
     "iopub.status.busy": "2022-02-22T01:45:44.914232Z",
     "iopub.status.idle": "2022-02-22T01:45:44.919554Z",
     "shell.execute_reply": "2022-02-22T01:45:44.920097Z"
    },
    "papermill": {
     "duration": 0.043455,
     "end_time": "2022-02-22T01:45:44.920272",
     "exception": false,
     "start_time": "2022-02-22T01:45:44.876817",
     "status": "completed"
    },
    "tags": []
   },
   "outputs": [
    {
     "data": {
      "application/javascript": [
       "parent.postMessage({\"jupyterEvent\": \"custom.exercise_interaction\", \"data\": {\"interactionType\": 3, \"questionType\": 4, \"questionId\": \"3.2_ArithmeticParensHard\", \"learnToolsVersion\": \"0.3.4\", \"valueTowardsCompletion\": 0.0, \"failureMessage\": \"\", \"exceptionClass\": \"\", \"trace\": \"\", \"outcomeType\": 4}}, \"*\")"
      ],
      "text/plain": [
       "<IPython.core.display.Javascript object>"
      ]
     },
     "metadata": {},
     "output_type": "display_data"
    },
    {
     "data": {
      "text/markdown": [
       "<span style=\"color:#33cc99\">Solution:</span> `(8 - 3) * (2 - (1 + 1))` is one solution. There may be others."
      ],
      "text/plain": [
       "Solution: `(8 - 3) * (2 - (1 + 1))` is one solution. There may be others."
      ]
     },
     "metadata": {},
     "output_type": "display_data"
    }
   ],
   "source": [
    "# Check your answer (Run this code cell to receive credit!)\n",
    "q3.b.solution()"
   ]
  },
  {
   "cell_type": "markdown",
   "id": "2411677b",
   "metadata": {
    "papermill": {
     "duration": 0.03716,
     "end_time": "2022-02-22T01:45:44.995641",
     "exception": false,
     "start_time": "2022-02-22T01:45:44.958481",
     "status": "completed"
    },
    "tags": []
   },
   "source": [
    "<hr/>\n",
    "\n",
    "# 4. \n",
    "Alice, Bob and Carol have agreed to pool their Halloween candy and split it evenly among themselves.\n",
    "For the sake of their friendship, any candies left over will be smashed. For example, if they collectively\n",
    "bring home 91 candies, they'll take 30 each and smash 1.\n",
    "\n",
    "Write an arithmetic expression below to calculate how many candies they must smash for a given haul."
   ]
  },
  {
   "cell_type": "code",
   "execution_count": 16,
   "id": "bc9e893a",
   "metadata": {
    "execution": {
     "iopub.execute_input": "2022-02-22T01:45:45.073768Z",
     "iopub.status.busy": "2022-02-22T01:45:45.072767Z",
     "iopub.status.idle": "2022-02-22T01:45:45.081228Z",
     "shell.execute_reply": "2022-02-22T01:45:45.081788Z",
     "shell.execute_reply.started": "2022-01-27T03:38:13.498361Z"
    },
    "papermill": {
     "duration": 0.04878,
     "end_time": "2022-02-22T01:45:45.081961",
     "exception": false,
     "start_time": "2022-02-22T01:45:45.033181",
     "status": "completed"
    },
    "tags": []
   },
   "outputs": [
    {
     "data": {
      "application/javascript": [
       "parent.postMessage({\"jupyterEvent\": \"custom.exercise_interaction\", \"data\": {\"outcomeType\": 1, \"valueTowardsCompletion\": 0.25, \"interactionType\": 1, \"questionType\": 1, \"questionId\": \"4_CandySplitting\", \"learnToolsVersion\": \"0.3.4\", \"failureMessage\": \"\", \"exceptionClass\": \"\", \"trace\": \"\"}}, \"*\")"
      ],
      "text/plain": [
       "<IPython.core.display.Javascript object>"
      ]
     },
     "metadata": {},
     "output_type": "display_data"
    },
    {
     "data": {
      "text/markdown": [
       "<span style=\"color:#33cc33\">Correct</span>"
      ],
      "text/plain": [
       "Correct"
      ]
     },
     "metadata": {},
     "output_type": "display_data"
    }
   ],
   "source": [
    "# Variables representing the number of candies collected by alice, bob, and carol\n",
    "alice_candies = 121\n",
    "bob_candies = 77\n",
    "carol_candies = 109\n",
    "\n",
    "# Your code goes here! Replace the right-hand side of this assignment with an expression\n",
    "# involving alice_candies, bob_candies, and carol_candies\n",
    "\n",
    "sum = alice_candies + bob_candies + carol_candies\n",
    "equal = sum%3\n",
    "to_smash = equal\n",
    "\n",
    "# Check your answer\n",
    "q4.check()"
   ]
  },
  {
   "cell_type": "code",
   "execution_count": 17,
   "id": "5181244c",
   "metadata": {
    "execution": {
     "iopub.execute_input": "2022-02-22T01:45:45.161375Z",
     "iopub.status.busy": "2022-02-22T01:45:45.160449Z",
     "iopub.status.idle": "2022-02-22T01:45:45.163490Z",
     "shell.execute_reply": "2022-02-22T01:45:45.164098Z"
    },
    "papermill": {
     "duration": 0.044174,
     "end_time": "2022-02-22T01:45:45.164264",
     "exception": false,
     "start_time": "2022-02-22T01:45:45.120090",
     "status": "completed"
    },
    "tags": []
   },
   "outputs": [],
   "source": [
    "#q4.hint()\n",
    "#q4.solution()"
   ]
  },
  {
   "cell_type": "markdown",
   "id": "a09c44ab",
   "metadata": {
    "papermill": {
     "duration": 0.037292,
     "end_time": "2022-02-22T01:45:45.238854",
     "exception": false,
     "start_time": "2022-02-22T01:45:45.201562",
     "status": "completed"
    },
    "tags": []
   },
   "source": [
    "# Keep Going\n",
    "\n",
    "Next up, you'll **[learn to write new functions and understand functions others write](https://www.kaggle.com/colinmorris/functions-and-getting-help)**. This will make you at least 10 times more productive as a Python programmer. "
   ]
  },
  {
   "cell_type": "markdown",
   "id": "77d7a438",
   "metadata": {
    "papermill": {
     "duration": 0.037057,
     "end_time": "2022-02-22T01:45:45.313451",
     "exception": false,
     "start_time": "2022-02-22T01:45:45.276394",
     "status": "completed"
    },
    "tags": []
   },
   "source": [
    "---\n",
    "\n",
    "\n",
    "\n",
    "\n",
    "*Have questions or comments? Visit the [course discussion forum](https://www.kaggle.com/learn/python/discussion) to chat with other learners.*"
   ]
  }
 ],
 "metadata": {
  "kernelspec": {
   "display_name": "Python 3",
   "language": "python",
   "name": "python3"
  },
  "language_info": {
   "codemirror_mode": {
    "name": "ipython",
    "version": 3
   },
   "file_extension": ".py",
   "mimetype": "text/x-python",
   "name": "python",
   "nbconvert_exporter": "python",
   "pygments_lexer": "ipython3",
   "version": "3.7.12"
  },
  "papermill": {
   "default_parameters": {},
   "duration": 13.023577,
   "end_time": "2022-02-22T01:45:45.961317",
   "environment_variables": {},
   "exception": null,
   "input_path": "__notebook__.ipynb",
   "output_path": "__notebook__.ipynb",
   "parameters": {},
   "start_time": "2022-02-22T01:45:32.937740",
   "version": "2.3.3"
  }
 },
 "nbformat": 4,
 "nbformat_minor": 5
}
